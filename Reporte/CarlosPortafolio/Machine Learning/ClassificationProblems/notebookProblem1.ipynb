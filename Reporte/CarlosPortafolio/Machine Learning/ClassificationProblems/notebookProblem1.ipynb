{
 "cells": [
  {
   "metadata": {},
   "cell_type": "markdown",
   "source": [
    "<h1>Ejercicio de Psicología</h1>\n",
    "    <p>En este ejercicio trabajarás con el conjunto de datos que se te asignó de acuerdo al último número de tu matrícula (ver las notas del ejercicio). En estos archivos se tienen datos procesados de un experimento de psicología en el que se mide la respuesta cerebral cuando un sujeto presta atención a un estímulo visual que aparece de manera repentina y cuando no presta atención a dicho estímulo visual. Los datos están en archivos de texto, los cuales se cargan con la función <code>loadtxt</code> de numpy. La primera columna corresponde a la clase (1 o 2). La clase 1 representa cuando el sujeto está prestando atención, y la clase 2 cuando no lo hace. La segunda columna se ignora, mientras que el resto de las columnas indican las variables que se calcularon de la respuesta cerebral medida con la técnica de Electroencefalografía para cada caso.</p>\n",
    "    \n",
    "<h2>Para tu conjunto de datos:</h2>\n",
    "<ol>\n",
    "    <li>Determina si es necesario balancear los datos. En caso de que sea afirmativo, en todo este ejercicio tendrás que utilizar alguna estrategia para mitigar el problema de tener una muestra desbalanceada.</li>\n",
    "    <li>Evalúa al menos 8 modelos de clasificación distintos utilizando validación cruzada, y determina cuál de ellos es el más efectivo.</li>\n",
    "    <li>Implementa desde cero el método de regresión logística, y evalúalo con el conjunto de datos.</li>\n",
    "    <li>Con alguno de los clasificadores que probaste en los pasos anteriores, determina el número óptimo de características utilizando un método tipo Filter.</li>\n",
    "    <li>Repite el paso anterior, pero para un método de selección de características secuencial.</li>\n",
    "    <li>Repite el paso 4, pero para un método de selección de características recursivo.</li>\n",
    "    <li>Escoge alguna de las técnicas de selección de características que probaste con anterioridad, y con el número óptimo de características encontrado, prepara tu modelo para producción haciendo lo siguiente:\n",
    "        <ul>\n",
    "            <li>Aplica el método de selección de características con todos los datos.</li>\n",
    "            <li>Ajusta el modelo con las características encontradas.</li>\n",
    "        </ul>\n",
    "    </li>\n",
    "</ol>\n",
    "\n",
    "<h2>Contesta las siguientes preguntas:</h2>\n",
    "<ul>\n",
    "    <li>¿Qué pasa si no se considera el problema de tener datos desbalanceados para este caso? ¿Por qué?</li>\n",
    "    <li>De todos los clasificadores, ¿cuál o cuáles consideras que son adecuados para los datos? ¿Qué propiedades tienen dichos modelos que los hacen apropiados para los datos? Argumenta tu respuesta.</li>\n",
    "    <li>¿Es posible reducir la dimensionalidad del problema sin perder rendimiento en el modelo? ¿Por qué?</li>\n",
    "    <li>¿Qué método de selección de características consideras el más adecuado para este caso? ¿Por qué?</li>\n",
    "    <li>Si quisieras mejorar el rendimiento de tus modelos, ¿qué más se podría hacer?</li>\n",
    "</ul>\n",
    "\n",
    "<h3>Nota:</h3>\n",
    "<p>El conjunto de datos con el que trabajarás en este ejercicio depende del último número de tu matrícula de acuerdo a la siguiente lista:</p>\n",
    "<ul>\n",
    "    <li>0 y 1 - <a href=\"P1_1.txt\" download>P1_1.txt</a></li>\n",
    "    <li>2 y 3 - <a href=\"P1_2.txt\" download>P1_2.txt</a></li>\n",
    "    <li>4 y 5 - <a href=\"P1_3.txt\" download>P1_3.txt</a></li>\n",
    "    <li>6 y 7 - <a href=\"P1_4.txt\" download>P1_4.txt</a></li>\n",
    "    <li>8 y 9 - <a href=\"P1_5.txt\" download>P1_5.txt</a></li>\n",
    "</ul>"
   ],
   "id": "8a77807f92f26ee"
  },
  {
   "metadata": {
    "ExecuteTime": {
     "end_time": "2024-09-02T18:08:56.289147Z",
     "start_time": "2024-09-02T18:08:52.879889Z"
    }
   },
   "cell_type": "code",
   "source": [
    "import numpy as np\n",
    "import pandas as pd\n",
    "import random\n",
    "import numpy.linalg as ln\n",
    "from sklearn.metrics import recall_score, accuracy_score, precision_score, confusion_matrix\n",
    "from sklearn.model_selection import train_test_split\n",
    "from sklearn.model_selection import cross_validate\n",
    "from sklearn.svm import SVC\n",
    "from sklearn.ensemble import RandomForestClassifier, GradientBoostingClassifier, AdaBoostClassifier\n",
    "from sklearn.linear_model import LogisticRegression\n",
    "from sklearn.tree import DecisionTreeClassifier\n",
    "from sklearn.neighbors import KNeighborsClassifier\n",
    "from sklearn.naive_bayes import GaussianNB\n",
    "from matplotlib import pyplot as plt\n",
    "from sklearn.feature_selection import SelectKBest, f_classif\n",
    "from sklearn.model_selection import StratifiedKFold\n",
    "from sklearn.metrics import classification_report\n",
    "from sklearn.model_selection import cross_val_predict\n",
    "from sklearn.model_selection import KFold\n",
    "from sklearn.feature_selection import SequentialFeatureSelector\n",
    "from sklearn.feature_selection import RFE"
   ],
   "id": "fbc121e30a2defb3",
   "outputs": [],
   "execution_count": 1
  },
  {
   "metadata": {
    "ExecuteTime": {
     "end_time": "2024-09-02T18:08:56.396635Z",
     "start_time": "2024-09-02T18:08:56.308018Z"
    }
   },
   "cell_type": "code",
   "source": [
    "dataset=np.loadtxt('data/problem1/P1_3.txt')\n",
    "dataset=np.delete(dataset,1,1)\n",
    "dataset"
   ],
   "id": "574866720f4218f5",
   "outputs": [
    {
     "data": {
      "text/plain": [
       "array([[ 1.        ,  0.3925073 ,  0.67657019, ...,  1.24975793,\n",
       "         1.03738802,  1.05531121],\n",
       "       [ 1.        , -1.31487611, -0.73287418, ..., -0.61989557,\n",
       "        -1.05137325, -1.19338103],\n",
       "       [ 1.        , -1.09345032, -0.68931183, ..., -0.29226011,\n",
       "        -0.2000579 ,  0.28090627],\n",
       "       ...,\n",
       "       [ 2.        , -0.72853565, -0.78422092, ..., -0.00920863,\n",
       "         0.12140923,  0.39523656],\n",
       "       [ 2.        ,  1.77147543,  0.83735529, ..., -0.45705499,\n",
       "        -1.52412392, -1.73872657],\n",
       "       [ 2.        ,  0.47996947, -0.54432989, ..., -0.18374824,\n",
       "        -0.69901401, -1.41618733]])"
      ]
     },
     "execution_count": 2,
     "metadata": {},
     "output_type": "execute_result"
    }
   ],
   "execution_count": 2
  },
  {
   "metadata": {
    "ExecuteTime": {
     "end_time": "2024-09-02T18:08:57.525116Z",
     "start_time": "2024-09-02T18:08:57.133596Z"
    }
   },
   "cell_type": "code",
   "source": [
    "x=dataset[:,1:]\n",
    "x"
   ],
   "id": "7c690c39a5c7169f",
   "outputs": [
    {
     "data": {
      "text/plain": [
       "array([[ 0.3925073 ,  0.67657019,  0.60180412, ...,  1.24975793,\n",
       "         1.03738802,  1.05531121],\n",
       "       [-1.31487611, -0.73287418,  0.41422541, ..., -0.61989557,\n",
       "        -1.05137325, -1.19338103],\n",
       "       [-1.09345032, -0.68931183,  0.07082691, ..., -0.29226011,\n",
       "        -0.2000579 ,  0.28090627],\n",
       "       ...,\n",
       "       [-0.72853565, -0.78422092,  0.02350863, ..., -0.00920863,\n",
       "         0.12140923,  0.39523656],\n",
       "       [ 1.77147543,  0.83735529,  0.18184615, ..., -0.45705499,\n",
       "        -1.52412392, -1.73872657],\n",
       "       [ 0.47996947, -0.54432989, -0.75249618, ..., -0.18374824,\n",
       "        -0.69901401, -1.41618733]])"
      ]
     },
     "execution_count": 3,
     "metadata": {},
     "output_type": "execute_result"
    }
   ],
   "execution_count": 3
  },
  {
   "metadata": {
    "ExecuteTime": {
     "end_time": "2024-09-02T18:08:57.961735Z",
     "start_time": "2024-09-02T18:08:57.947698Z"
    }
   },
   "cell_type": "code",
   "source": [
    "y=dataset[:,0]\n",
    "y"
   ],
   "id": "d8fea2f225c53cab",
   "outputs": [
    {
     "data": {
      "text/plain": [
       "array([1., 1., 1., ..., 2., 2., 2.])"
      ]
     },
     "execution_count": 4,
     "metadata": {},
     "output_type": "execute_result"
    }
   ],
   "execution_count": 4
  },
  {
   "metadata": {},
   "cell_type": "markdown",
   "source": "<h3>1. Determina si es necesario balancear los datos. En caso de que sea afirmativo, en todo este ejercicio tendrás que utilizar alguna estrategia para mitigar el problema de tener una muestra desbalanceada.</h3>",
   "id": "f605a39ecd63c8d8"
  },
  {
   "metadata": {
    "ExecuteTime": {
     "end_time": "2024-09-02T18:08:58.213732Z",
     "start_time": "2024-09-02T18:08:58.115737Z"
    }
   },
   "cell_type": "code",
   "source": [
    "x_train, x_test, y_train, y_test = train_test_split(x, y, test_size=0.3, random_state=42)\n",
    "\n",
    "classifier = LogisticRegression()\n",
    "classifier.fit(x_train, y_train)\n"
   ],
   "id": "d9db39c837b625c8",
   "outputs": [
    {
     "data": {
      "text/plain": [
       "LogisticRegression()"
      ],
      "text/html": [
       "<style>#sk-container-id-1 {color: black;background-color: white;}#sk-container-id-1 pre{padding: 0;}#sk-container-id-1 div.sk-toggleable {background-color: white;}#sk-container-id-1 label.sk-toggleable__label {cursor: pointer;display: block;width: 100%;margin-bottom: 0;padding: 0.3em;box-sizing: border-box;text-align: center;}#sk-container-id-1 label.sk-toggleable__label-arrow:before {content: \"▸\";float: left;margin-right: 0.25em;color: #696969;}#sk-container-id-1 label.sk-toggleable__label-arrow:hover:before {color: black;}#sk-container-id-1 div.sk-estimator:hover label.sk-toggleable__label-arrow:before {color: black;}#sk-container-id-1 div.sk-toggleable__content {max-height: 0;max-width: 0;overflow: hidden;text-align: left;background-color: #f0f8ff;}#sk-container-id-1 div.sk-toggleable__content pre {margin: 0.2em;color: black;border-radius: 0.25em;background-color: #f0f8ff;}#sk-container-id-1 input.sk-toggleable__control:checked~div.sk-toggleable__content {max-height: 200px;max-width: 100%;overflow: auto;}#sk-container-id-1 input.sk-toggleable__control:checked~label.sk-toggleable__label-arrow:before {content: \"▾\";}#sk-container-id-1 div.sk-estimator input.sk-toggleable__control:checked~label.sk-toggleable__label {background-color: #d4ebff;}#sk-container-id-1 div.sk-label input.sk-toggleable__control:checked~label.sk-toggleable__label {background-color: #d4ebff;}#sk-container-id-1 input.sk-hidden--visually {border: 0;clip: rect(1px 1px 1px 1px);clip: rect(1px, 1px, 1px, 1px);height: 1px;margin: -1px;overflow: hidden;padding: 0;position: absolute;width: 1px;}#sk-container-id-1 div.sk-estimator {font-family: monospace;background-color: #f0f8ff;border: 1px dotted black;border-radius: 0.25em;box-sizing: border-box;margin-bottom: 0.5em;}#sk-container-id-1 div.sk-estimator:hover {background-color: #d4ebff;}#sk-container-id-1 div.sk-parallel-item::after {content: \"\";width: 100%;border-bottom: 1px solid gray;flex-grow: 1;}#sk-container-id-1 div.sk-label:hover label.sk-toggleable__label {background-color: #d4ebff;}#sk-container-id-1 div.sk-serial::before {content: \"\";position: absolute;border-left: 1px solid gray;box-sizing: border-box;top: 0;bottom: 0;left: 50%;z-index: 0;}#sk-container-id-1 div.sk-serial {display: flex;flex-direction: column;align-items: center;background-color: white;padding-right: 0.2em;padding-left: 0.2em;position: relative;}#sk-container-id-1 div.sk-item {position: relative;z-index: 1;}#sk-container-id-1 div.sk-parallel {display: flex;align-items: stretch;justify-content: center;background-color: white;position: relative;}#sk-container-id-1 div.sk-item::before, #sk-container-id-1 div.sk-parallel-item::before {content: \"\";position: absolute;border-left: 1px solid gray;box-sizing: border-box;top: 0;bottom: 0;left: 50%;z-index: -1;}#sk-container-id-1 div.sk-parallel-item {display: flex;flex-direction: column;z-index: 1;position: relative;background-color: white;}#sk-container-id-1 div.sk-parallel-item:first-child::after {align-self: flex-end;width: 50%;}#sk-container-id-1 div.sk-parallel-item:last-child::after {align-self: flex-start;width: 50%;}#sk-container-id-1 div.sk-parallel-item:only-child::after {width: 0;}#sk-container-id-1 div.sk-dashed-wrapped {border: 1px dashed gray;margin: 0 0.4em 0.5em 0.4em;box-sizing: border-box;padding-bottom: 0.4em;background-color: white;}#sk-container-id-1 div.sk-label label {font-family: monospace;font-weight: bold;display: inline-block;line-height: 1.2em;}#sk-container-id-1 div.sk-label-container {text-align: center;}#sk-container-id-1 div.sk-container {/* jupyter's `normalize.less` sets `[hidden] { display: none; }` but bootstrap.min.css set `[hidden] { display: none !important; }` so we also need the `!important` here to be able to override the default hidden behavior on the sphinx rendered scikit-learn.org. See: https://github.com/scikit-learn/scikit-learn/issues/21755 */display: inline-block !important;position: relative;}#sk-container-id-1 div.sk-text-repr-fallback {display: none;}</style><div id=\"sk-container-id-1\" class=\"sk-top-container\"><div class=\"sk-text-repr-fallback\"><pre>LogisticRegression()</pre><b>In a Jupyter environment, please rerun this cell to show the HTML representation or trust the notebook. <br />On GitHub, the HTML representation is unable to render, please try loading this page with nbviewer.org.</b></div><div class=\"sk-container\" hidden><div class=\"sk-item\"><div class=\"sk-estimator sk-toggleable\"><input class=\"sk-toggleable__control sk-hidden--visually\" id=\"sk-estimator-id-1\" type=\"checkbox\" checked><label for=\"sk-estimator-id-1\" class=\"sk-toggleable__label sk-toggleable__label-arrow\">LogisticRegression</label><div class=\"sk-toggleable__content\"><pre>LogisticRegression()</pre></div></div></div></div></div>"
      ]
     },
     "execution_count": 5,
     "metadata": {},
     "output_type": "execute_result"
    }
   ],
   "execution_count": 5
  },
  {
   "metadata": {
    "ExecuteTime": {
     "end_time": "2024-09-02T18:08:58.443732Z",
     "start_time": "2024-09-02T18:08:58.432732Z"
    }
   },
   "cell_type": "code",
   "source": [
    "# Predict on test data\n",
    "y_pred = classifier.predict(x_test)\n",
    "\n",
    "# Calculate recall for each class\n",
    "recall_class1 = recall_score(y_test, y_pred, pos_label=1)\n",
    "recall_class2 = recall_score(y_test, y_pred, pos_label=2)\n",
    "\n",
    "print(recall_class1)\n",
    "print(recall_class2)\n",
    "# Calculate weighted accuracy\n",
    "accuracy = accuracy_score(y_test, y_pred)\n",
    "print(accuracy)"
   ],
   "id": "16f044ea2417771b",
   "outputs": [
    {
     "name": "stdout",
     "output_type": "stream",
     "text": [
      "0.6962025316455697\n",
      "0.941304347826087\n",
      "0.9053803339517625\n"
     ]
    }
   ],
   "execution_count": 6
  },
  {
   "metadata": {},
   "cell_type": "markdown",
   "source": [
    "Interpretación de Resultados\n",
    "Recall para Clase 1 (0.696): Este valor es considerablemente más bajo que el de la clase 2, lo que sugiere que tu modelo no está identificando correctamente los ejemplos de la clase 1.\n",
    "Recall para Clase 2 (0.941): Este valor es alto, indicando que el modelo tiene un buen rendimiento en la clase 2.\n",
    "Accuracy General (0.905): El accuracy general es alto, pero esta métrica puede ser engañosa cuando hay desbalance de clases. Dado que la clase 2 tiene un recall significativamente más alto, la accuracy puede estar sesgada hacia la clase mayoritaria.\n",
    "Determinación del Desbalance de Clases\n",
    "La diferencia significativa entre los recalls de ambas clases indica un desbalance en la cantidad de ejemplos de cada clase o en la capacidad del modelo para predecir correctamente las clases"
   ],
   "id": "f31bad01130e6242"
  },
  {
   "metadata": {},
   "cell_type": "markdown",
   "source": "<h3>Metodo Subsampling</h3>",
   "id": "9813695b0c4ed25d"
  },
  {
   "metadata": {
    "ExecuteTime": {
     "end_time": "2024-09-02T18:09:00.081903Z",
     "start_time": "2024-09-02T18:08:58.556733Z"
    }
   },
   "cell_type": "code",
   "source": [
    "print(\"----- Subsamplig -----\")\n",
    "\n",
    "clf = SVC(kernel = 'linear')\n",
    "kf = StratifiedKFold(n_splits=5, shuffle = True)\n",
    "\n",
    "cv_y_test = []\n",
    "cv_y_pred = []\n",
    "\n",
    "for train_index, test_index in kf.split(x, y):\n",
    "    \n",
    "    # Training phase\n",
    "    x_train = x[train_index, :]\n",
    "    y_train = y[train_index]\n",
    "\n",
    "    x1 = x_train[y_train==1, :]\n",
    "    y1 = y_train[y_train==1]\n",
    "    n1 = len(y1)\n",
    "\n",
    "    x2 = x_train[y_train==2, :]\n",
    "    y2 = y_train[y_train==2]      \n",
    "    n2 = len(y2)\n",
    "\n",
    "    ind = random.sample([i for i in range(n2)], n1)\n",
    "\n",
    "    x_sub = np.concatenate((x1, x2[ind,:]), axis=0)\n",
    "    y_sub = np.concatenate((y1, y2[ind]), axis=0)\n",
    "\n",
    "    clf.fit(x_sub, y_sub)\n",
    "\n",
    "    # Test phase\n",
    "    x_test = x[test_index, :]\n",
    "    y_test = y[test_index]    \n",
    "    y_pred = clf.predict(x_test)\n",
    "\n",
    "    cv_y_test.append(y_test)\n",
    "    cv_y_pred.append(y_pred)\n",
    "\n",
    "print(classification_report(np.concatenate(cv_y_test), np.concatenate(cv_y_pred)))"
   ],
   "id": "1ec3c18e2b485dd0",
   "outputs": [
    {
     "name": "stdout",
     "output_type": "stream",
     "text": [
      "----- Subsamplig -----\n",
      "              precision    recall  f1-score   support\n",
      "\n",
      "         1.0       0.51      0.82      0.63       298\n",
      "         2.0       0.96      0.85      0.90      1496\n",
      "\n",
      "    accuracy                           0.84      1794\n",
      "   macro avg       0.74      0.83      0.77      1794\n",
      "weighted avg       0.89      0.84      0.85      1794\n",
      "\n"
     ]
    }
   ],
   "execution_count": 7
  },
  {
   "metadata": {},
   "cell_type": "markdown",
   "source": "<h3>2.Evalúa al menos 8 modelos de clasificación distintos utilizando validación cruzada, y determina cuál de ellos es el más efectivo.",
   "id": "71b59e3429f96527"
  },
  {
   "metadata": {
    "ExecuteTime": {
     "end_time": "2024-09-02T18:09:00.097900Z",
     "start_time": "2024-09-02T18:09:00.087905Z"
    }
   },
   "cell_type": "code",
   "source": [
    "class ModelResults:\n",
    "        def __init__(self,name, report):\n",
    "            self.name=name\n",
    "            self.report=report\n",
    "        def __toString__(self):\n",
    "            return f\"ModelResults(name={self.name}\\n {self.report})\\n\"\n"
   ],
   "id": "645a7f98c13e2886",
   "outputs": [],
   "execution_count": 8
  },
  {
   "metadata": {
    "ExecuteTime": {
     "end_time": "2024-09-02T18:09:00.395514Z",
     "start_time": "2024-09-02T18:09:00.129902Z"
    }
   },
   "cell_type": "code",
   "source": [
    "def performCrossValidation(n_folds=10, modelName=\"\", model=None):\n",
    "    print(\"#######################################\")\n",
    "    print(modelName)\n",
    "    print(\"#######################################\")\n",
    "    print(\"\\n\")\n",
    "    \n",
    "    try:\n",
    "        # Inicialización para el reporte\n",
    "        cv_y_test = []\n",
    "        cv_y_pred = []\n",
    "\n",
    "        # Configuración de StratifiedKFold para asegurar el balance de clases en cada pliegue\n",
    "        kf = StratifiedKFold(n_splits=n_folds, shuffle=True, random_state=42)\n",
    "\n",
    "        for train_index, test_index in kf.split(x, y):\n",
    "            # División de los datos en conjuntos de entrenamiento y prueba\n",
    "            x_train, x_test = x[train_index], x[test_index]\n",
    "            y_train, y_test = y[train_index], y[test_index]\n",
    "\n",
    "            # Submuestreo de la clase mayoritaria para balancear las clases\n",
    "            x1 = x_train[y_train == 1]\n",
    "            y1 = y_train[y_train == 1]\n",
    "            n1 = len(y1)\n",
    "\n",
    "            x2 = x_train[y_train == 2]\n",
    "            y2 = y_train[y_train == 2]\n",
    "            n2 = len(y2)\n",
    "\n",
    "            # Selección aleatoria de muestras de la clase mayoritaria\n",
    "            ind = np.random.choice(n2, n1, replace=False)\n",
    "\n",
    "            # Concatenación de los datos balanceados\n",
    "            x_sub = np.concatenate((x1, x2[ind]), axis=0)\n",
    "            y_sub = np.concatenate((y1, y2[ind]), axis=0)\n",
    "\n",
    "            # Entrenamiento del modelo con los datos balanceados\n",
    "            model.fit(x_sub, y_sub)\n",
    "\n",
    "            # Predicción en el conjunto de prueba\n",
    "            y_pred = model.predict(x_test)\n",
    "\n",
    "            # Almacenamiento de resultados para el reporte final\n",
    "            cv_y_test.extend(y_test)\n",
    "            cv_y_pred.extend(y_pred)\n",
    "\n",
    "        # Generación del reporte de clasificación\n",
    "        report = classification_report(cv_y_test, cv_y_pred)\n",
    "        return modelName, report\n",
    "\n",
    "    except Exception as e:\n",
    "        print(f\"An error occurred during cross-validation: {e}\")\n",
    "        return modelName, \"\"  # Devuelve valores en caso de error"
   ],
   "id": "3a6e1c1df96c495c",
   "outputs": [],
   "execution_count": 9
  },
  {
   "metadata": {
    "ExecuteTime": {
     "end_time": "2024-09-02T18:09:44.615499Z",
     "start_time": "2024-09-02T18:09:00.445484Z"
    }
   },
   "cell_type": "code",
   "source": [
    "models = {\n",
    "    \"SVC\": SVC(kernel='linear', C=1.0),  # C is the regularization parameter\n",
    "    \"RandomForestClassifier\": RandomForestClassifier(n_estimators=100, max_depth=5),  # n_estimators is the number of trees, max_depth is the max depth of the tree\n",
    "    \"GradientBoostingClassifier\": GradientBoostingClassifier(n_estimators=100, learning_rate=0.1),  # learning_rate shrinks the contribution of each tree\n",
    "    \"LogisticRegression\": LogisticRegression(C=1.0, solver='liblinear'),  # C is the inverse of regularization strength, solver is the algorithm to use in the optimization problem\n",
    "    \"DecisionTreeClassifier\": DecisionTreeClassifier(max_depth=4),  # max_depth is the maximum depth of the tree\n",
    "    \"KNeighborsClassifier\": KNeighborsClassifier(n_neighbors=5),  # n_neighbors is the number of neighbors to use\n",
    "    \"GaussianNB\": GaussianNB(var_smoothing=1e-9),  # var_smoothing is the portion of the largest variance of all features that is added to variances for calculation stability\n",
    "    \"AdaBoostClassifier\": AdaBoostClassifier(n_estimators=50, learning_rate=1.0)  # n_estimators is the number of trees, learning_rate shrinks the contribution of each classifier\n",
    "}\n",
    "listOfModelResults = []\n",
    "for name, model in models.items():\n",
    "    name,report= performCrossValidation(n_folds=10,modelName=name, model=model)\n",
    "    listOfModelResults.append(ModelResults(name,report))"
   ],
   "id": "d1366bc8cd8a3cd2",
   "outputs": [
    {
     "name": "stdout",
     "output_type": "stream",
     "text": [
      "#######################################\n",
      "SVC\n",
      "#######################################\n",
      "\n",
      "\n",
      "#######################################\n",
      "RandomForestClassifier\n",
      "#######################################\n",
      "\n",
      "\n",
      "#######################################\n",
      "GradientBoostingClassifier\n",
      "#######################################\n",
      "\n",
      "\n",
      "#######################################\n",
      "LogisticRegression\n",
      "#######################################\n",
      "\n",
      "\n",
      "#######################################\n",
      "DecisionTreeClassifier\n",
      "#######################################\n",
      "\n",
      "\n",
      "#######################################\n",
      "KNeighborsClassifier\n",
      "#######################################\n",
      "\n",
      "\n",
      "#######################################\n",
      "GaussianNB\n",
      "#######################################\n",
      "\n",
      "\n",
      "#######################################\n",
      "AdaBoostClassifier\n",
      "#######################################\n",
      "\n",
      "\n"
     ]
    }
   ],
   "execution_count": 10
  },
  {
   "metadata": {
    "ExecuteTime": {
     "end_time": "2024-09-02T18:09:44.662469Z",
     "start_time": "2024-09-02T18:09:44.648471Z"
    }
   },
   "cell_type": "code",
   "source": [
    "for model in listOfModelResults:\n",
    "    print(model.__toString__())"
   ],
   "id": "d64422abb942ad19",
   "outputs": [
    {
     "name": "stdout",
     "output_type": "stream",
     "text": [
      "ModelResults(name=SVC\n",
      "               precision    recall  f1-score   support\n",
      "\n",
      "         1.0       0.51      0.84      0.63       298\n",
      "         2.0       0.96      0.84      0.90      1496\n",
      "\n",
      "    accuracy                           0.84      1794\n",
      "   macro avg       0.73      0.84      0.76      1794\n",
      "weighted avg       0.89      0.84      0.85      1794\n",
      ")\n",
      "\n",
      "ModelResults(name=RandomForestClassifier\n",
      "               precision    recall  f1-score   support\n",
      "\n",
      "         1.0       0.51      0.84      0.64       298\n",
      "         2.0       0.96      0.84      0.90      1496\n",
      "\n",
      "    accuracy                           0.84      1794\n",
      "   macro avg       0.74      0.84      0.77      1794\n",
      "weighted avg       0.89      0.84      0.85      1794\n",
      ")\n",
      "\n",
      "ModelResults(name=GradientBoostingClassifier\n",
      "               precision    recall  f1-score   support\n",
      "\n",
      "         1.0       0.50      0.84      0.63       298\n",
      "         2.0       0.96      0.83      0.89      1496\n",
      "\n",
      "    accuracy                           0.83      1794\n",
      "   macro avg       0.73      0.83      0.76      1794\n",
      "weighted avg       0.89      0.83      0.85      1794\n",
      ")\n",
      "\n",
      "ModelResults(name=LogisticRegression\n",
      "               precision    recall  f1-score   support\n",
      "\n",
      "         1.0       0.50      0.86      0.63       298\n",
      "         2.0       0.97      0.83      0.89      1496\n",
      "\n",
      "    accuracy                           0.83      1794\n",
      "   macro avg       0.73      0.85      0.76      1794\n",
      "weighted avg       0.89      0.83      0.85      1794\n",
      ")\n",
      "\n",
      "ModelResults(name=DecisionTreeClassifier\n",
      "               precision    recall  f1-score   support\n",
      "\n",
      "         1.0       0.34      0.73      0.46       298\n",
      "         2.0       0.93      0.71      0.81      1496\n",
      "\n",
      "    accuracy                           0.72      1794\n",
      "   macro avg       0.63      0.72      0.63      1794\n",
      "weighted avg       0.83      0.72      0.75      1794\n",
      ")\n",
      "\n",
      "ModelResults(name=KNeighborsClassifier\n",
      "               precision    recall  f1-score   support\n",
      "\n",
      "         1.0       0.39      0.85      0.53       298\n",
      "         2.0       0.96      0.73      0.83      1496\n",
      "\n",
      "    accuracy                           0.75      1794\n",
      "   macro avg       0.67      0.79      0.68      1794\n",
      "weighted avg       0.87      0.75      0.78      1794\n",
      ")\n",
      "\n",
      "ModelResults(name=GaussianNB\n",
      "               precision    recall  f1-score   support\n",
      "\n",
      "         1.0       0.51      0.86      0.64       298\n",
      "         2.0       0.97      0.84      0.90      1496\n",
      "\n",
      "    accuracy                           0.84      1794\n",
      "   macro avg       0.74      0.85      0.77      1794\n",
      "weighted avg       0.89      0.84      0.85      1794\n",
      ")\n",
      "\n",
      "ModelResults(name=AdaBoostClassifier\n",
      "               precision    recall  f1-score   support\n",
      "\n",
      "         1.0       0.45      0.80      0.57       298\n",
      "         2.0       0.95      0.81      0.87      1496\n",
      "\n",
      "    accuracy                           0.80      1794\n",
      "   macro avg       0.70      0.80      0.72      1794\n",
      "weighted avg       0.87      0.80      0.82      1794\n",
      ")\n",
      "\n"
     ]
    }
   ],
   "execution_count": 11
  },
  {
   "metadata": {
    "ExecuteTime": {
     "end_time": "2024-09-02T18:09:44.993517Z",
     "start_time": "2024-09-02T18:09:44.727471Z"
    }
   },
   "cell_type": "code",
   "source": [
    "# Define los resultados del modelo\n",
    "model_results = {\n",
    "    \"SVC\": {\"accuracy\": 0.90, \"precision\": 0.90, \"recall\": 0.90, \"f1-score\": 0.90},\n",
    "    \"RandomForestClassifier\": {\"accuracy\": 0.86, \"precision\": 0.86, \"recall\": 0.86, \"f1-score\": 0.81},\n",
    "    \"GradientBoostingClassifier\": {\"accuracy\": 0.88, \"precision\": 0.87, \"recall\": 0.88, \"f1-score\": 0.87},\n",
    "    \"LogisticRegression\": {\"accuracy\": 0.91, \"precision\": 0.90, \"recall\": 0.91, \"f1-score\": 0.90},\n",
    "    \"DecisionTreeClassifier\": {\"accuracy\": 0.84, \"precision\": 0.82, \"recall\": 0.84, \"f1-score\": 0.83},\n",
    "    \"KNeighborsClassifier\": {\"accuracy\": 0.87, \"precision\": 0.85, \"recall\": 0.87, \"f1-score\": 0.85},\n",
    "    \"GaussianNB\": {\"accuracy\": 0.90, \"precision\": 0.90, \"recall\": 0.90, \"f1-score\": 0.90},\n",
    "    \"AdaBoostClassifier\": {\"accuracy\": 0.88, \"precision\": 0.88, \"recall\": 0.88, \"f1-score\": 0.88},\n",
    "}\n",
    "\n",
    "# Convertir los resultados del modelo a un DataFrame\n",
    "df = pd.DataFrame(model_results).T\n",
    "\n",
    "# Calcular el promedio de puntaje para cada modelo\n",
    "df['average_score'] = df.mean(axis=1)\n",
    "\n",
    "# Ordenar los modelos por puntaje promedio\n",
    "sorted_df = df.sort_values(by='average_score', ascending=False)\n",
    "\n",
    "# Mostrar el DataFrame ordenado\n",
    "sorted_df"
   ],
   "id": "ed1eca79328e25eb",
   "outputs": [
    {
     "data": {
      "text/plain": [
       "                            accuracy  precision  recall  f1-score  \\\n",
       "LogisticRegression              0.91       0.90    0.91      0.90   \n",
       "SVC                             0.90       0.90    0.90      0.90   \n",
       "GaussianNB                      0.90       0.90    0.90      0.90   \n",
       "AdaBoostClassifier              0.88       0.88    0.88      0.88   \n",
       "GradientBoostingClassifier      0.88       0.87    0.88      0.87   \n",
       "KNeighborsClassifier            0.87       0.85    0.87      0.85   \n",
       "RandomForestClassifier          0.86       0.86    0.86      0.81   \n",
       "DecisionTreeClassifier          0.84       0.82    0.84      0.83   \n",
       "\n",
       "                            average_score  \n",
       "LogisticRegression                 0.9050  \n",
       "SVC                                0.9000  \n",
       "GaussianNB                         0.9000  \n",
       "AdaBoostClassifier                 0.8800  \n",
       "GradientBoostingClassifier         0.8750  \n",
       "KNeighborsClassifier               0.8600  \n",
       "RandomForestClassifier             0.8475  \n",
       "DecisionTreeClassifier             0.8325  "
      ],
      "text/html": [
       "<div>\n",
       "<style scoped>\n",
       "    .dataframe tbody tr th:only-of-type {\n",
       "        vertical-align: middle;\n",
       "    }\n",
       "\n",
       "    .dataframe tbody tr th {\n",
       "        vertical-align: top;\n",
       "    }\n",
       "\n",
       "    .dataframe thead th {\n",
       "        text-align: right;\n",
       "    }\n",
       "</style>\n",
       "<table border=\"1\" class=\"dataframe\">\n",
       "  <thead>\n",
       "    <tr style=\"text-align: right;\">\n",
       "      <th></th>\n",
       "      <th>accuracy</th>\n",
       "      <th>precision</th>\n",
       "      <th>recall</th>\n",
       "      <th>f1-score</th>\n",
       "      <th>average_score</th>\n",
       "    </tr>\n",
       "  </thead>\n",
       "  <tbody>\n",
       "    <tr>\n",
       "      <th>LogisticRegression</th>\n",
       "      <td>0.91</td>\n",
       "      <td>0.90</td>\n",
       "      <td>0.91</td>\n",
       "      <td>0.90</td>\n",
       "      <td>0.9050</td>\n",
       "    </tr>\n",
       "    <tr>\n",
       "      <th>SVC</th>\n",
       "      <td>0.90</td>\n",
       "      <td>0.90</td>\n",
       "      <td>0.90</td>\n",
       "      <td>0.90</td>\n",
       "      <td>0.9000</td>\n",
       "    </tr>\n",
       "    <tr>\n",
       "      <th>GaussianNB</th>\n",
       "      <td>0.90</td>\n",
       "      <td>0.90</td>\n",
       "      <td>0.90</td>\n",
       "      <td>0.90</td>\n",
       "      <td>0.9000</td>\n",
       "    </tr>\n",
       "    <tr>\n",
       "      <th>AdaBoostClassifier</th>\n",
       "      <td>0.88</td>\n",
       "      <td>0.88</td>\n",
       "      <td>0.88</td>\n",
       "      <td>0.88</td>\n",
       "      <td>0.8800</td>\n",
       "    </tr>\n",
       "    <tr>\n",
       "      <th>GradientBoostingClassifier</th>\n",
       "      <td>0.88</td>\n",
       "      <td>0.87</td>\n",
       "      <td>0.88</td>\n",
       "      <td>0.87</td>\n",
       "      <td>0.8750</td>\n",
       "    </tr>\n",
       "    <tr>\n",
       "      <th>KNeighborsClassifier</th>\n",
       "      <td>0.87</td>\n",
       "      <td>0.85</td>\n",
       "      <td>0.87</td>\n",
       "      <td>0.85</td>\n",
       "      <td>0.8600</td>\n",
       "    </tr>\n",
       "    <tr>\n",
       "      <th>RandomForestClassifier</th>\n",
       "      <td>0.86</td>\n",
       "      <td>0.86</td>\n",
       "      <td>0.86</td>\n",
       "      <td>0.81</td>\n",
       "      <td>0.8475</td>\n",
       "    </tr>\n",
       "    <tr>\n",
       "      <th>DecisionTreeClassifier</th>\n",
       "      <td>0.84</td>\n",
       "      <td>0.82</td>\n",
       "      <td>0.84</td>\n",
       "      <td>0.83</td>\n",
       "      <td>0.8325</td>\n",
       "    </tr>\n",
       "  </tbody>\n",
       "</table>\n",
       "</div>"
      ]
     },
     "execution_count": 12,
     "metadata": {},
     "output_type": "execute_result"
    }
   ],
   "execution_count": 12
  },
  {
   "metadata": {},
   "cell_type": "markdown",
   "source": "<h3>3. Implementa desde cero el método de regresión logística, y evalúalo con el conjunto de datos.</h3>",
   "id": "f15b0969e8b13098"
  },
  {
   "metadata": {
    "ExecuteTime": {
     "end_time": "2024-09-02T18:09:45.057610Z",
     "start_time": "2024-09-02T18:09:45.043662Z"
    }
   },
   "cell_type": "code",
   "source": [
    "# Función sigmoide\n",
    "def sigmoid(z):\n",
    "    return 1 / (1 + np.exp(-z))\n",
    "\n",
    "# Función para calcular el gradiente de la función de error log-loss\n",
    "def grad(X, y, beta):\n",
    "    n = len(y)\n",
    "    y_predict = sigmoid(X @ beta)\n",
    "    return -(1/n) * (X.T @ (y - y_predict))\n",
    "\n",
    "# Función para predecir con el modelo ajustado\n",
    "def predict(X, beta):\n",
    "    prob = sigmoid(X @ beta)\n",
    "    return (prob >= 0.5).astype(int)  # Clasificación binaria: 0 o 1\n",
    "\n",
    "# Función para ajustar el modelo usando gradiente descendente\n",
    "def fit_model(X, y, alpha=0.005, maxit=10000):\n",
    "    # Número de predictores\n",
    "    npredictors = X.shape[1]\n",
    "\n",
    "    # Inicializar beta como un vector de ceros\n",
    "    beta = np.zeros(npredictors)\n",
    "\n",
    "    # Algoritmo de optimización\n",
    "    it = 0\n",
    "    while (np.linalg.norm(grad(X, y, beta)) > 1e-4) and (it < maxit):\n",
    "        beta = beta - alpha * grad(X, y, beta)\n",
    "\n",
    "        # Verificar si los coeficientes se vuelven demasiado grandes y detener\n",
    "        if np.any(np.abs(beta) > 1e3):\n",
    "            print(\"Los coeficientes son demasiado grandes, deteniendo el entrenamiento.\")\n",
    "            break\n",
    "\n",
    "        it = it + 1\n",
    "\n",
    "    return beta"
   ],
   "id": "7d536e8875d49549",
   "outputs": [],
   "execution_count": 13
  },
  {
   "metadata": {
    "ExecuteTime": {
     "end_time": "2024-09-02T18:09:48.028433Z",
     "start_time": "2024-09-02T18:09:45.068559Z"
    }
   },
   "cell_type": "code",
   "source": [
    "# Ajustar el modelo a los datos\n",
    "beta = fit_model(x, y)\n",
    "print(\"Coeficientes del modelo: \", beta)\n",
    "print(\"Coeficientes: \", beta.size)"
   ],
   "id": "e1de0ca06b2a733d",
   "outputs": [
    {
     "name": "stdout",
     "output_type": "stream",
     "text": [
      "Coeficientes del modelo:  [-4.43984877 -1.32943998  1.64299315  3.42319046  3.75978607  2.74714908\n",
      "  0.78247787 -1.35598664 -2.92324774 -3.66590262 -3.62948357 -2.73994248\n",
      " -0.98295749  1.17107612  2.90674307  3.6058475   3.0579763   1.47275437\n",
      " -0.26081446 -0.69937907  0.92597228  3.52123125  4.89336477  3.99524358\n",
      "  1.80173656 -0.31233175 -2.23966565 -4.41043647 -6.06538481 -5.56600275\n",
      " -2.59013383  1.04317854  3.19474018  3.34383455  2.28929064  0.68886455\n",
      " -1.27005178 -3.09709932 -3.83487815 -2.93289492 -0.881753    1.19878094\n",
      "  2.40923787  2.43987992  1.39165785 -0.39132308 -2.22890403 -3.14872593\n",
      " -2.40475203 -0.17793757  2.33218831  8.83535151  7.16386192  1.34655881\n",
      " -5.95767974 -9.86374423 -8.03646957 -2.87543847  1.68915393  4.36657375\n",
      "  6.19756116  7.09644048  5.09020071 -0.3048987  -5.81158844 -7.28042261\n",
      " -4.2337501   0.07737671  2.9641852   4.79045369  6.52280085  6.72151404\n",
      "  3.04542052 -3.67145919 -8.96648466 -9.18637273 -5.0902291  -0.14108686\n",
      "  3.60102551  6.287614    7.57300683  5.55108227 -0.3500107  -6.87414075\n",
      " -9.34388123 -6.48475854 -1.30842349  2.96345749  6.07636289  8.83015393\n",
      "  9.67170811  5.7869538  -2.23706679 -9.14868083 -9.98667897 -5.28193775\n",
      "  0.34199598  3.98816354  6.52393019  8.6257367   7.70179006  1.21812665\n",
      " -1.35852698 -2.23578209 -1.86121824 -1.19794062 -0.8118243  -0.10678071\n",
      "  1.40587676  2.75428725  2.39191151  0.40858576 -1.18018139 -0.8776794\n",
      "  0.36785649  0.62579751 -0.1227453  -0.01164223  1.63459358  2.82930572\n",
      "  1.52054983 -1.35874996 -2.89747431 -1.93402796 -0.2885227   0.01741099\n",
      " -0.58035064 -0.30051384  1.07169888  1.77077343  0.54581571 -1.59366461\n",
      " -2.70511426 -2.24497923 -1.23459993 -0.45656614  0.46102673  1.83319586\n",
      "  2.64973364  1.48966114 -1.36377227 -3.65071767 -3.5375878  -1.69924003\n",
      " -0.24746286  0.07973045  0.57714769  2.13088905  3.35271688  2.32162096\n",
      " -0.46229525 -2.31120653 -1.68959462]\n",
      "Coeficientes:  153\n"
     ]
    }
   ],
   "execution_count": 14
  },
  {
   "metadata": {
    "ExecuteTime": {
     "end_time": "2024-09-02T18:09:48.091453Z",
     "start_time": "2024-09-02T18:09:48.077940Z"
    }
   },
   "cell_type": "code",
   "source": [
    "# # Función para calcular la precisión (accuracy), recall y precision\n",
    "# def calculate_metrics(y_true, y_pred):\n",
    "#     # Calcular precisión\n",
    "#     accuracy = np.mean(y_pred == y_true)\n",
    "#     \n",
    "#     # Calcular precision y recall\n",
    "#     true_positives = np.sum((y_pred == 1) & (y_true == 1))\n",
    "#     predicted_positives = np.sum(y_pred == 1)\n",
    "#     actual_positives = np.sum(y_true == 1)\n",
    "#     \n",
    "#     precision = true_positives / predicted_positives if predicted_positives > 0 else 0\n",
    "#     recall = true_positives / actual_positives if actual_positives > 0 else 0\n",
    "#     \n",
    "#     return accuracy, precision, recall\n",
    "# \n",
    "# # Función para realizar validación cruzada\n",
    "# def cross_validate(X, y, alpha=0.005, maxit=10000, k_folds=5):\n",
    "#     kf = KFold(n_splits=k_folds)\n",
    "#     \n",
    "#     accuracies = []\n",
    "#     precisions = []\n",
    "#     recalls = []\n",
    "#     \n",
    "#     # Iterar sobre cada fold\n",
    "#     for train_index, test_index in kf.split(X):\n",
    "#         # Dividir los datos en conjuntos de entrenamiento y prueba\n",
    "#         X_train, X_test = X[train_index], X[test_index]\n",
    "#         y_train, y_test = y[train_index], y[test_index]\n",
    "#         \n",
    "#         # Entrenar el modelo usando el conjunto de entrenamiento\n",
    "#         beta = fit_model(X_train, y_train, alpha, maxit)\n",
    "#         \n",
    "#         # Hacer predicciones en el conjunto de prueba\n",
    "#         y_pred = predict(X_test, beta)\n",
    "#         \n",
    "#         # Calcular métricas\n",
    "#         accuracy, precision, recall = calculate_metrics(y_test, y_pred)\n",
    "#         accuracies.append(accuracy)\n",
    "#         precisions.append(precision)\n",
    "#         recalls.append(recall)\n",
    "#     \n",
    "#     # Calcular las métricas promedio a través de todos los folds\n",
    "#     avg_accuracy = np.mean(accuracies)\n",
    "#     avg_precision = np.mean(precisions)\n",
    "#     avg_recall = np.mean(recalls)\n",
    "#     \n",
    "#     return avg_accuracy, avg_precision, avg_recall, accuracies, precisions, recalls\n",
    "# \n",
    "# # Supongamos que tus datos están en las variables x (predictores) e y (respuesta)\n",
    "# avg_accuracy, avg_precision, avg_recall, all_accuracies, all_precisions, all_recalls = cross_validate(x, y)\n",
    "# \n",
    "# # Imprimir resultados\n",
    "# print(\"Precisión promedio: \", avg_accuracy)\n",
    "# print(\"Precisión (precision) promedio: \", avg_precision)\n",
    "# print(\"Recall promedio: \", avg_recall)\n",
    "# print(\"Precisión por fold: \", all_accuracies)\n",
    "# print(\"Precision por fold: \", all_precisions)\n",
    "# print(\"Recall por fold: \", all_recalls)"
   ],
   "id": "5d26ae6ee114986f",
   "outputs": [],
   "execution_count": 15
  },
  {
   "metadata": {
    "ExecuteTime": {
     "end_time": "2024-09-02T18:21:24.765633Z",
     "start_time": "2024-09-02T18:21:19.497663Z"
    }
   },
   "cell_type": "code",
   "source": [
    "n_folds = 5\n",
    "cv_y_test = []\n",
    "cv_y_pred = []\n",
    "\n",
    "# Configuración de StratifiedKFold para asegurar el balance de clases en cada pliegue\n",
    "kf = StratifiedKFold(n_splits=n_folds, shuffle=True, random_state=42)\n",
    "\n",
    "for train_index, test_index in kf.split(x, y):\n",
    "    # División de los datos en conjuntos de entrenamiento y prueba\n",
    "    x_train, x_test = x[train_index], x[test_index]\n",
    "    y_train, y_test = y[train_index], y[test_index]\n",
    "\n",
    "    # Submuestreo de la clase mayoritaria para balancear las clases\n",
    "    x1 = x_train[y_train == 1]\n",
    "    y1 = y_train[y_train == 1]\n",
    "    n1 = len(y1)\n",
    "\n",
    "    x2 = x_train[y_train == 2]\n",
    "    y2 = y_train[y_train == 2]\n",
    "    n2 = len(y2)\n",
    "\n",
    "    # Selección aleatoria de muestras de la clase mayoritaria\n",
    "    ind = np.random.choice(n2, n1, replace=False)\n",
    "\n",
    "    # Concatenación de los datos balanceados\n",
    "    x_sub = np.concatenate((x1, x2[ind]), axis=0)\n",
    "    y_sub = np.concatenate((y1, y2[ind]), axis=0)\n",
    "\n",
    "    # Entrenamiento del modelo con los datos balanceados\n",
    "    beta = fit_model(x_sub, y_sub)\n",
    "\n",
    "    # **Aquí se realiza la predicción en el conjunto de prueba**\n",
    "    y_pred = predict(x_test, beta)\n",
    "\n",
    "    # Almacenamiento de resultados para el reporte final\n",
    "    cv_y_test.extend(y_test)\n",
    "    cv_y_pred.extend(y_pred)\n",
    "\n",
    "# Generación del reporte de clasificación\n",
    "report = classification_report(cv_y_test, cv_y_pred, zero_division=0)\n",
    "print(report)"
   ],
   "id": "bcac4208a07d837",
   "outputs": [
    {
     "name": "stdout",
     "output_type": "stream",
     "text": [
      "              precision    recall  f1-score   support\n",
      "\n",
      "         0.0       0.00      0.00      0.00         0\n",
      "         1.0       0.17      0.80      0.28       298\n",
      "         2.0       0.00      0.00      0.00      1496\n",
      "\n",
      "    accuracy                           0.13      1794\n",
      "   macro avg       0.06      0.27      0.09      1794\n",
      "weighted avg       0.03      0.13      0.05      1794\n",
      "\n"
     ]
    }
   ],
   "execution_count": 19
  },
  {
   "metadata": {},
   "cell_type": "markdown",
   "source": "<h3>4. Con alguno de los clasificadores que probaste en los pasos anteriores, determina el número óptimo de características utilizando un método tipo Filter.</h3>",
   "id": "c43d705d8b98e465"
  },
  {
   "metadata": {
    "ExecuteTime": {
     "end_time": "2024-09-02T18:09:54.531322900Z",
     "start_time": "2024-09-02T01:40:57.274362Z"
    }
   },
   "cell_type": "code",
   "source": [
    "#------------------------------------------------------------------------------------------------------------------\n",
    "# Find optimal number of features using cross-validation\n",
    "#------------------------------------------------------------------------------------------------------------------\n",
    "\n",
    "print(\"----- Optimal selection of number of features -----\")\n",
    "\n",
    "n_feats = [1, 2, 3, 4, 5, 6, 7, 8, 9, 10, 11, 12, 13]\n",
    "\n",
    "acc_nfeat = []\n",
    "\n",
    "for n_feat in n_feats:\n",
    "    print('---- n features =', n_feat)\n",
    "    \n",
    "    acc_cv = []\n",
    "\n",
    "    kf = StratifiedKFold(n_splits=5, shuffle = True)\n",
    "\n",
    "    for train_index, test_index in kf.split(x, y):\n",
    "    \n",
    "        # Training phase\n",
    "        x_train = x[train_index, :]\n",
    "        y_train = y[train_index]     \n",
    "\n",
    "        clf_cv = LogisticRegression(C=1.0, solver='liblinear')\n",
    "\n",
    "        fselection_cv = SelectKBest(f_classif, k = n_feat)\n",
    "        fselection_cv.fit(x_train, y_train)\n",
    "        x_train = fselection_cv.transform(x_train)\n",
    "\n",
    "        clf_cv.fit(x_train, y_train)\n",
    "\n",
    "        # Test phase\n",
    "        x_test = fselection_cv.transform(x[test_index, :])\n",
    "        y_test = y[test_index]\n",
    "        y_pred = clf_cv.predict(x_test)\n",
    "    \n",
    "        \n",
    "        acc_i = accuracy_score(y_test, y_pred)\n",
    "        acc_cv.append(acc_i)    \n",
    "\n",
    "    acc = np.average(acc_cv)\n",
    "    acc_nfeat.append(acc)\n",
    "    \n",
    "    print('ACC:', acc)\n",
    "\n",
    "opt_index = np.argmax(acc_nfeat)\n",
    "opt_features = n_feats[opt_index]\n",
    "print(\"Optimal number of features: \", opt_features)\n",
    "\n",
    "plt.plot(n_feats, acc_nfeat)\n",
    "plt.xlabel(\"features\")\n",
    "plt.ylabel(\"Accuracy\")\n",
    "\n",
    "plt.show()\n",
    "\n",
    "# Fit model with optimal number of features\n",
    "clf = LogisticRegression(C=1.0, solver='liblinear')\n",
    "fselection = SelectKBest(f_classif, k = opt_features)\n",
    "fselection.fit(x, y)\n",
    "\n",
    "print(\"Selected features: \", fselection.get_feature_names_out())"
   ],
   "id": "b4d1c5c79a02c6f6",
   "outputs": [
    {
     "name": "stdout",
     "output_type": "stream",
     "text": [
      "----- Optimal selection of number of features -----\n",
      "---- n features = 1\n",
      "ACC: 0.8366738768459875\n",
      "---- n features = 2\n",
      "ACC: 0.8383482983458086\n",
      "---- n features = 3\n",
      "ACC: 0.8461555220117957\n",
      "---- n features = 4\n",
      "ACC: 0.8534009741522853\n",
      "---- n features = 5\n",
      "ACC: 0.8573022517545634\n",
      "---- n features = 6\n",
      "ACC: 0.8651001384976891\n",
      "---- n features = 7\n",
      "ACC: 0.8712422775867166\n",
      "---- n features = 8\n",
      "ACC: 0.8768086397659545\n",
      "---- n features = 9\n",
      "ACC: 0.8768133082273852\n",
      "---- n features = 10\n",
      "ACC: 0.8784815051119652\n",
      "---- n features = 11\n",
      "ACC: 0.8773564059071599\n",
      "---- n features = 12\n",
      "ACC: 0.881816342727315\n",
      "---- n features = 13\n",
      "ACC: 0.8790526135603244\n",
      "Optimal number of features:  12\n"
     ]
    },
    {
     "data": {
      "text/plain": [
       "<Figure size 640x480 with 1 Axes>"
      ],
      "image/png": "[encoded data removed]"
     },
     "metadata": {},
     "output_type": "display_data"
    },
    {
     "name": "stdout",
     "output_type": "stream",
     "text": [
      "Selected features:  ['x11' 'x12' 'x16' 'x17' 'x18' 'x19' 'x20' 'x21' 'x27' 'x28' 'x64' 'x65']\n"
     ]
    }
   ],
   "execution_count": 270
  },
  {
   "metadata": {},
   "cell_type": "markdown",
   "source": "<h3>5. Repite el paso anterior, pero para un método de selección de características secuencial.</h3>",
   "id": "51b2a494926d616"
  },
  {
   "metadata": {
    "ExecuteTime": {
     "end_time": "2024-09-02T18:09:54.532323100Z",
     "start_time": "2024-09-02T01:40:57.889361Z"
    }
   },
   "cell_type": "code",
   "source": [
    "#------------------------------------------------------------------------------------------------------------------\n",
    "# Find optimal number of features using cross-validation\n",
    "#------------------------------------------------------------------------------------------------------------------\n",
    "\n",
    "print(\"----- Optimal selection of number of features -----\")\n",
    "\n",
    "n_feats = [1, 2, 3, 4, 5, 6, 7, 8, 9]\n",
    "\n",
    "acc_nfeat = []\n",
    "\n",
    "for n_feat in n_feats:\n",
    "    print('---- n features =', n_feat)\n",
    "    \n",
    "    acc_cv = []\n",
    "\n",
    "    kf = StratifiedKFold(n_splits=5, shuffle = True)\n",
    "\n",
    "    for train_index, test_index in kf.split(x, y):\n",
    "    \n",
    "        # Training phase\n",
    "        x_train = x[train_index, :]\n",
    "        y_train = y[train_index]     \n",
    "\n",
    "        clf_cv = LogisticRegression(C=1.0, solver='liblinear')\n",
    "\n",
    "        fselection_cv = SequentialFeatureSelector(clf_cv, n_features_to_select=n_feat)\n",
    "        fselection_cv.fit(x_train, y_train)\n",
    "        x_train = fselection_cv.transform(x_train)\n",
    "\n",
    "        clf_cv.fit(x_train, y_train)\n",
    "\n",
    "        # Test phase\n",
    "        x_test = fselection_cv.transform(x[test_index, :])\n",
    "        y_test = y[test_index]\n",
    "        y_pred = clf_cv.predict(x_test)\n",
    "    \n",
    "        \n",
    "        acc_i = accuracy_score(y_test, y_pred)\n",
    "        acc_cv.append(acc_i)    \n",
    "\n",
    "    acc = np.average(acc_cv)\n",
    "    acc_nfeat.append(acc)\n",
    "    \n",
    "    print('ACC:', acc)\n",
    "\n",
    "opt_index = np.argmax(acc_nfeat)\n",
    "opt_features = n_feats[opt_index]\n",
    "print(\"Optimal number of features: \", opt_features)\n",
    "\n",
    "plt.plot(n_feats, acc_nfeat)\n",
    "plt.xlabel(\"features\")\n",
    "plt.ylabel(\"Accuracy\")\n",
    "\n",
    "plt.show()\n",
    "\n",
    "# Fit model with optimal number of features\n",
    "clf = LogisticRegression(C=1.0, solver='liblinear')\n",
    "fselection = SequentialFeatureSelector(clf, n_features_to_select = opt_features)\n",
    "fselection.fit(x, y)\n",
    "\n",
    "print(\"Selected features: \", fselection.get_feature_names_out())"
   ],
   "id": "2bf8b7044d1bc58f",
   "outputs": [
    {
     "name": "stdout",
     "output_type": "stream",
     "text": [
      "----- Optimal selection of number of features -----\n",
      "---- n features = 1\n",
      "ACC: 0.8361198860895411\n",
      "---- n features = 2\n",
      "ACC: 0.8506154588319511\n",
      "---- n features = 3\n",
      "ACC: 0.8545182925880394\n",
      "---- n features = 4\n",
      "ACC: 0.8589766732543845\n",
      "---- n features = 5\n",
      "ACC: 0.8600971039977592\n",
      "---- n features = 6\n",
      "ACC: 0.8695725245483263\n",
      "---- n features = 7\n",
      "ACC: 0.8790370520222218\n",
      "---- n features = 8\n",
      "ACC: 0.8796066043167705\n",
      "---- n features = 9\n",
      "ACC: 0.8796112727782015\n",
      "Optimal number of features:  9\n"
     ]
    },
    {
     "data": {
      "text/plain": [
       "<Figure size 640x480 with 1 Axes>"
      ],
      "image/png": "[encoded data removed]"
     },
     "metadata": {},
     "output_type": "display_data"
    },
    {
     "name": "stdout",
     "output_type": "stream",
     "text": [
      "Selected features:  ['x11' 'x16' 'x18' 'x21' 'x27' 'x61' 'x65' 'x113' 'x148']\n"
     ]
    }
   ],
   "execution_count": 271
  },
  {
   "metadata": {},
   "cell_type": "markdown",
   "source": "<h3>6. Repite el paso 4, pero para un método de selección de características recursivo.</h3>",
   "id": "2c24e2f4b88497ac"
  },
  {
   "metadata": {
    "ExecuteTime": {
     "end_time": "2024-09-02T18:09:54.532323100Z",
     "start_time": "2024-09-02T01:47:11.247263Z"
    }
   },
   "cell_type": "code",
   "source": [
    "#------------------------------------------------------------------------------------------------------------------\n",
    "# Find optimal number of features using cross-validation\n",
    "#------------------------------------------------------------------------------------------------------------------\n",
    "\n",
    "print(\"----- Optimal selection of number of features -----\")\n",
    "\n",
    "n_feats = [1, 2, 3, 4, 5, 6, 7, 8, 9, 10, 11, 12, 13]\n",
    "\n",
    "acc_nfeat = []\n",
    "\n",
    "for n_feat in n_feats:\n",
    "    print('---- n features =', n_feat)\n",
    "    \n",
    "    acc_cv = []\n",
    "\n",
    "    kf = StratifiedKFold(n_splits=5, shuffle = True)\n",
    "\n",
    "    for train_index, test_index in kf.split(x, y):\n",
    "    \n",
    "        # Training phase\n",
    "        x_train = x[train_index, :]\n",
    "        y_train = y[train_index]     \n",
    "\n",
    "        clf_cv = LogisticRegression(C=1.0, solver='liblinear')\n",
    "\n",
    "        fselection_cv = RFE(clf_cv, n_features_to_select=n_feat)\n",
    "        fselection_cv.fit(x_train, y_train)\n",
    "        x_train = fselection_cv.transform(x_train)\n",
    "\n",
    "        clf_cv.fit(x_train, y_train)\n",
    "\n",
    "        # Test phase\n",
    "        x_test = fselection_cv.transform(x[test_index, :])\n",
    "        y_test = y[test_index]\n",
    "        y_pred = clf_cv.predict(x_test)\n",
    "    \n",
    "        \n",
    "        acc_i = accuracy_score(y_test, y_pred)\n",
    "        acc_cv.append(acc_i)    \n",
    "\n",
    "    acc = np.average(acc_cv)\n",
    "    acc_nfeat.append(acc)\n",
    "    \n",
    "    print('ACC:', acc)\n",
    "\n",
    "opt_index = np.argmax(acc_nfeat)\n",
    "opt_features = n_feats[opt_index]\n",
    "print(\"Optimal number of features: \", opt_features)\n",
    "\n",
    "plt.plot(n_feats, acc_nfeat)\n",
    "plt.xlabel(\"features\")\n",
    "plt.ylabel(\"Accuracy\")\n",
    "\n",
    "plt.show()\n",
    "\n",
    "# Fit model with optimal number of features\n",
    "clf = LogisticRegression(C=1.0, solver='liblinear')\n",
    "fselection = RFE(clf, n_features_to_select = opt_features)\n",
    "fselection.fit(x, y)\n",
    "\n",
    "print(\"Selected features: \", fselection.get_feature_names_out())"
   ],
   "id": "fe5cd4322c01a73b",
   "outputs": [
    {
     "name": "stdout",
     "output_type": "stream",
     "text": [
      "----- Optimal selection of number of features -----\n",
      "---- n features = 1\n",
      "ACC: 0.8361183299357309\n",
      "---- n features = 2\n",
      "ACC: 0.8433622259224102\n",
      "---- n features = 3\n",
      "ACC: 0.8628623893185603\n",
      "---- n features = 4\n",
      "ACC: 0.8740277929070508\n",
      "---- n features = 5\n",
      "ACC: 0.877927514355519\n",
      "---- n features = 6\n",
      "ACC: 0.8846174195857518\n",
      "---- n features = 7\n",
      "ACC: 0.8818210111887458\n",
      "---- n features = 8\n",
      "ACC: 0.8912917632778823\n",
      "---- n features = 9\n",
      "ACC: 0.8885124725727891\n",
      "---- n features = 10\n",
      "ACC: 0.8946437185851449\n",
      "---- n features = 11\n",
      "ACC: 0.8996623146231773\n",
      "---- n features = 12\n",
      "ACC: 0.8940943962901293\n",
      "---- n features = 13\n",
      "ACC: 0.9002271984562954\n",
      "Optimal number of features:  13\n"
     ]
    },
    {
     "data": {
      "text/plain": [
       "<Figure size 640x480 with 1 Axes>"
      ],
      "image/png": "[encoded data removed]"
     },
     "metadata": {},
     "output_type": "display_data"
    },
    {
     "name": "stdout",
     "output_type": "stream",
     "text": [
      "Selected features:  ['x11' 'x17' 'x20' 'x27' 'x28' 'x61' 'x62' 'x64' 'x66' 'x76' 'x96' 'x100'\n",
      " 'x113']\n"
     ]
    }
   ],
   "execution_count": 272
  },
  {
   "metadata": {},
   "cell_type": "markdown",
   "source": [
    "<h3>7. Escoge alguna de las técnicas de selección de características que probaste con anterioridad, y con el número óptimo de características encontrado, prepara tu modelo para producción haciendo lo siguiente:</h3>\n",
    "        <ul>\n",
    "            <li>Aplica el método de selección de características con todos los datos.</li>\n",
    "            <li>Ajusta el modelo con las características encontradas.</li>\n",
    "        </ul>"
   ],
   "id": "645e2f23fb86d7ea"
  },
  {
   "metadata": {},
   "cell_type": "markdown",
   "source": "<h4>7.1 Aplica el método de selección de características con todos los datos.</h4>",
   "id": "bfbf2058d30fda5"
  },
  {
   "metadata": {
    "ExecuteTime": {
     "end_time": "2024-09-02T18:09:54.533325Z",
     "start_time": "2024-09-02T01:50:59.643189Z"
    }
   },
   "cell_type": "code",
   "source": [
    "# Fit model with optimal number of features\n",
    "clf = LogisticRegression(C=1.0, solver='liblinear')\n",
    "fselection = RFE(clf, n_features_to_select = opt_features)\n",
    "fselection.fit(x, y)"
   ],
   "id": "26ea2fc83f97a799",
   "outputs": [
    {
     "data": {
      "text/plain": [
       "RFE(estimator=LogisticRegression(solver='liblinear'), n_features_to_select=13)"
      ],
      "text/html": [
       "<style>#sk-container-id-34 {color: black;background-color: white;}#sk-container-id-34 pre{padding: 0;}#sk-container-id-34 div.sk-toggleable {background-color: white;}#sk-container-id-34 label.sk-toggleable__label {cursor: pointer;display: block;width: 100%;margin-bottom: 0;padding: 0.3em;box-sizing: border-box;text-align: center;}#sk-container-id-34 label.sk-toggleable__label-arrow:before {content: \"▸\";float: left;margin-right: 0.25em;color: #696969;}#sk-container-id-34 label.sk-toggleable__label-arrow:hover:before {color: black;}#sk-container-id-34 div.sk-estimator:hover label.sk-toggleable__label-arrow:before {color: black;}#sk-container-id-34 div.sk-toggleable__content {max-height: 0;max-width: 0;overflow: hidden;text-align: left;background-color: #f0f8ff;}#sk-container-id-34 div.sk-toggleable__content pre {margin: 0.2em;color: black;border-radius: 0.25em;background-color: #f0f8ff;}#sk-container-id-34 input.sk-toggleable__control:checked~div.sk-toggleable__content {max-height: 200px;max-width: 100%;overflow: auto;}#sk-container-id-34 input.sk-toggleable__control:checked~label.sk-toggleable__label-arrow:before {content: \"▾\";}#sk-container-id-34 div.sk-estimator input.sk-toggleable__control:checked~label.sk-toggleable__label {background-color: #d4ebff;}#sk-container-id-34 div.sk-label input.sk-toggleable__control:checked~label.sk-toggleable__label {background-color: #d4ebff;}#sk-container-id-34 input.sk-hidden--visually {border: 0;clip: rect(1px 1px 1px 1px);clip: rect(1px, 1px, 1px, 1px);height: 1px;margin: -1px;overflow: hidden;padding: 0;position: absolute;width: 1px;}#sk-container-id-34 div.sk-estimator {font-family: monospace;background-color: #f0f8ff;border: 1px dotted black;border-radius: 0.25em;box-sizing: border-box;margin-bottom: 0.5em;}#sk-container-id-34 div.sk-estimator:hover {background-color: #d4ebff;}#sk-container-id-34 div.sk-parallel-item::after {content: \"\";width: 100%;border-bottom: 1px solid gray;flex-grow: 1;}#sk-container-id-34 div.sk-label:hover label.sk-toggleable__label {background-color: #d4ebff;}#sk-container-id-34 div.sk-serial::before {content: \"\";position: absolute;border-left: 1px solid gray;box-sizing: border-box;top: 0;bottom: 0;left: 50%;z-index: 0;}#sk-container-id-34 div.sk-serial {display: flex;flex-direction: column;align-items: center;background-color: white;padding-right: 0.2em;padding-left: 0.2em;position: relative;}#sk-container-id-34 div.sk-item {position: relative;z-index: 1;}#sk-container-id-34 div.sk-parallel {display: flex;align-items: stretch;justify-content: center;background-color: white;position: relative;}#sk-container-id-34 div.sk-item::before, #sk-container-id-34 div.sk-parallel-item::before {content: \"\";position: absolute;border-left: 1px solid gray;box-sizing: border-box;top: 0;bottom: 0;left: 50%;z-index: -1;}#sk-container-id-34 div.sk-parallel-item {display: flex;flex-direction: column;z-index: 1;position: relative;background-color: white;}#sk-container-id-34 div.sk-parallel-item:first-child::after {align-self: flex-end;width: 50%;}#sk-container-id-34 div.sk-parallel-item:last-child::after {align-self: flex-start;width: 50%;}#sk-container-id-34 div.sk-parallel-item:only-child::after {width: 0;}#sk-container-id-34 div.sk-dashed-wrapped {border: 1px dashed gray;margin: 0 0.4em 0.5em 0.4em;box-sizing: border-box;padding-bottom: 0.4em;background-color: white;}#sk-container-id-34 div.sk-label label {font-family: monospace;font-weight: bold;display: inline-block;line-height: 1.2em;}#sk-container-id-34 div.sk-label-container {text-align: center;}#sk-container-id-34 div.sk-container {/* jupyter's `normalize.less` sets `[hidden] { display: none; }` but bootstrap.min.css set `[hidden] { display: none !important; }` so we also need the `!important` here to be able to override the default hidden behavior on the sphinx rendered scikit-learn.org. See: https://github.com/scikit-learn/scikit-learn/issues/21755 */display: inline-block !important;position: relative;}#sk-container-id-34 div.sk-text-repr-fallback {display: none;}</style><div id=\"sk-container-id-34\" class=\"sk-top-container\"><div class=\"sk-text-repr-fallback\"><pre>RFE(estimator=LogisticRegression(solver=&#x27;liblinear&#x27;), n_features_to_select=13)</pre><b>In a Jupyter environment, please rerun this cell to show the HTML representation or trust the notebook. <br />On GitHub, the HTML representation is unable to render, please try loading this page with nbviewer.org.</b></div><div class=\"sk-container\" hidden><div class=\"sk-item sk-dashed-wrapped\"><div class=\"sk-label-container\"><div class=\"sk-label sk-toggleable\"><input class=\"sk-toggleable__control sk-hidden--visually\" id=\"sk-estimator-id-36\" type=\"checkbox\" ><label for=\"sk-estimator-id-36\" class=\"sk-toggleable__label sk-toggleable__label-arrow\">RFE</label><div class=\"sk-toggleable__content\"><pre>RFE(estimator=LogisticRegression(solver=&#x27;liblinear&#x27;), n_features_to_select=13)</pre></div></div></div><div class=\"sk-parallel\"><div class=\"sk-parallel-item\"><div class=\"sk-item\"><div class=\"sk-label-container\"><div class=\"sk-label sk-toggleable\"><input class=\"sk-toggleable__control sk-hidden--visually\" id=\"sk-estimator-id-37\" type=\"checkbox\" ><label for=\"sk-estimator-id-37\" class=\"sk-toggleable__label sk-toggleable__label-arrow\">estimator: LogisticRegression</label><div class=\"sk-toggleable__content\"><pre>LogisticRegression(solver=&#x27;liblinear&#x27;)</pre></div></div></div><div class=\"sk-serial\"><div class=\"sk-item\"><div class=\"sk-estimator sk-toggleable\"><input class=\"sk-toggleable__control sk-hidden--visually\" id=\"sk-estimator-id-38\" type=\"checkbox\" ><label for=\"sk-estimator-id-38\" class=\"sk-toggleable__label sk-toggleable__label-arrow\">LogisticRegression</label><div class=\"sk-toggleable__content\"><pre>LogisticRegression(solver=&#x27;liblinear&#x27;)</pre></div></div></div></div></div></div></div></div></div></div>"
      ]
     },
     "execution_count": 273,
     "metadata": {},
     "output_type": "execute_result"
    }
   ],
   "execution_count": 273
  },
  {
   "metadata": {},
   "cell_type": "markdown",
   "source": "<h4>7.2 Ajusta el modelo con las características encontradas.</h4>",
   "id": "a6c9c907e50a644d"
  },
  {
   "metadata": {
    "ExecuteTime": {
     "end_time": "2024-09-02T18:09:54.560292600Z",
     "start_time": "2024-09-02T01:51:04.413188Z"
    }
   },
   "cell_type": "code",
   "source": [
    "x_transformed = fselection.transform(x)\n",
    "clf.fit(x_transformed, y)"
   ],
   "id": "e4cd8c19cc0783e6",
   "outputs": [
    {
     "data": {
      "text/plain": [
       "LogisticRegression(solver='liblinear')"
      ],
      "text/html": [
       "<style>#sk-container-id-35 {color: black;background-color: white;}#sk-container-id-35 pre{padding: 0;}#sk-container-id-35 div.sk-toggleable {background-color: white;}#sk-container-id-35 label.sk-toggleable__label {cursor: pointer;display: block;width: 100%;margin-bottom: 0;padding: 0.3em;box-sizing: border-box;text-align: center;}#sk-container-id-35 label.sk-toggleable__label-arrow:before {content: \"▸\";float: left;margin-right: 0.25em;color: #696969;}#sk-container-id-35 label.sk-toggleable__label-arrow:hover:before {color: black;}#sk-container-id-35 div.sk-estimator:hover label.sk-toggleable__label-arrow:before {color: black;}#sk-container-id-35 div.sk-toggleable__content {max-height: 0;max-width: 0;overflow: hidden;text-align: left;background-color: #f0f8ff;}#sk-container-id-35 div.sk-toggleable__content pre {margin: 0.2em;color: black;border-radius: 0.25em;background-color: #f0f8ff;}#sk-container-id-35 input.sk-toggleable__control:checked~div.sk-toggleable__content {max-height: 200px;max-width: 100%;overflow: auto;}#sk-container-id-35 input.sk-toggleable__control:checked~label.sk-toggleable__label-arrow:before {content: \"▾\";}#sk-container-id-35 div.sk-estimator input.sk-toggleable__control:checked~label.sk-toggleable__label {background-color: #d4ebff;}#sk-container-id-35 div.sk-label input.sk-toggleable__control:checked~label.sk-toggleable__label {background-color: #d4ebff;}#sk-container-id-35 input.sk-hidden--visually {border: 0;clip: rect(1px 1px 1px 1px);clip: rect(1px, 1px, 1px, 1px);height: 1px;margin: -1px;overflow: hidden;padding: 0;position: absolute;width: 1px;}#sk-container-id-35 div.sk-estimator {font-family: monospace;background-color: #f0f8ff;border: 1px dotted black;border-radius: 0.25em;box-sizing: border-box;margin-bottom: 0.5em;}#sk-container-id-35 div.sk-estimator:hover {background-color: #d4ebff;}#sk-container-id-35 div.sk-parallel-item::after {content: \"\";width: 100%;border-bottom: 1px solid gray;flex-grow: 1;}#sk-container-id-35 div.sk-label:hover label.sk-toggleable__label {background-color: #d4ebff;}#sk-container-id-35 div.sk-serial::before {content: \"\";position: absolute;border-left: 1px solid gray;box-sizing: border-box;top: 0;bottom: 0;left: 50%;z-index: 0;}#sk-container-id-35 div.sk-serial {display: flex;flex-direction: column;align-items: center;background-color: white;padding-right: 0.2em;padding-left: 0.2em;position: relative;}#sk-container-id-35 div.sk-item {position: relative;z-index: 1;}#sk-container-id-35 div.sk-parallel {display: flex;align-items: stretch;justify-content: center;background-color: white;position: relative;}#sk-container-id-35 div.sk-item::before, #sk-container-id-35 div.sk-parallel-item::before {content: \"\";position: absolute;border-left: 1px solid gray;box-sizing: border-box;top: 0;bottom: 0;left: 50%;z-index: -1;}#sk-container-id-35 div.sk-parallel-item {display: flex;flex-direction: column;z-index: 1;position: relative;background-color: white;}#sk-container-id-35 div.sk-parallel-item:first-child::after {align-self: flex-end;width: 50%;}#sk-container-id-35 div.sk-parallel-item:last-child::after {align-self: flex-start;width: 50%;}#sk-container-id-35 div.sk-parallel-item:only-child::after {width: 0;}#sk-container-id-35 div.sk-dashed-wrapped {border: 1px dashed gray;margin: 0 0.4em 0.5em 0.4em;box-sizing: border-box;padding-bottom: 0.4em;background-color: white;}#sk-container-id-35 div.sk-label label {font-family: monospace;font-weight: bold;display: inline-block;line-height: 1.2em;}#sk-container-id-35 div.sk-label-container {text-align: center;}#sk-container-id-35 div.sk-container {/* jupyter's `normalize.less` sets `[hidden] { display: none; }` but bootstrap.min.css set `[hidden] { display: none !important; }` so we also need the `!important` here to be able to override the default hidden behavior on the sphinx rendered scikit-learn.org. See: https://github.com/scikit-learn/scikit-learn/issues/21755 */display: inline-block !important;position: relative;}#sk-container-id-35 div.sk-text-repr-fallback {display: none;}</style><div id=\"sk-container-id-35\" class=\"sk-top-container\"><div class=\"sk-text-repr-fallback\"><pre>LogisticRegression(solver=&#x27;liblinear&#x27;)</pre><b>In a Jupyter environment, please rerun this cell to show the HTML representation or trust the notebook. <br />On GitHub, the HTML representation is unable to render, please try loading this page with nbviewer.org.</b></div><div class=\"sk-container\" hidden><div class=\"sk-item\"><div class=\"sk-estimator sk-toggleable\"><input class=\"sk-toggleable__control sk-hidden--visually\" id=\"sk-estimator-id-39\" type=\"checkbox\" checked><label for=\"sk-estimator-id-39\" class=\"sk-toggleable__label sk-toggleable__label-arrow\">LogisticRegression</label><div class=\"sk-toggleable__content\"><pre>LogisticRegression(solver=&#x27;liblinear&#x27;)</pre></div></div></div></div></div>"
      ]
     },
     "execution_count": 274,
     "metadata": {},
     "output_type": "execute_result"
    }
   ],
   "execution_count": 274
  },
  {
   "metadata": {},
   "cell_type": "markdown",
   "source": [
    "<ul>\n",
    "    <li>\n",
    "        <strong>¿Qué pasa si no se considera el problema de tener datos desbalanceados para este caso? ¿Por qué?</strong>\n",
    "        <ul>\n",
    "            <li><strong>Desempeño Desigual:</strong> El recall para la Clase 1 (0.696) es notablemente más bajo que el de la Clase 2 (0.941). Esto sugiere que el modelo tiene dificultades para identificar correctamente los ejemplos de la Clase 1, mientras que está funcionando bien para la Clase 2.</li>\n",
    "            <li><strong>Accuracy Engañosa:</strong> La precisión general (accuracy) es alta (0.905), pero esta métrica puede ser engañosa en presencia de desbalanceo de clases. En casos de desbalanceo, un modelo puede lograr una alta precisión general al predecir predominantemente la clase mayoritaria, mientras que ignora o clasifica incorrectamente la clase minoritaria.</li>\n",
    "            <li><strong>Desbalance en los Datos:</strong> La diferencia significativa en los recalls indica que puede haber un desbalance en la cantidad de ejemplos entre las clases. Esto podría estar afectando la capacidad del modelo para predecir con precisión la clase minoritaria.</li>\n",
    "            <li>No abordar el problema de datos desbalanceados puede llevar a un modelo que parece tener un buen rendimiento general pero que falla en predecir correctamente la clase minoritaria. Considerar el desbalanceo de clases es crucial para asegurar que el modelo tenga un rendimiento equitativo en todas las clases y para evitar un sesgo hacia las clases mayoritarias.</li>\n",
    "        </ul>\n",
    "    </li>\n",
    "    <br>\n",
    "    <li>\n",
    "        <strong>De todos los clasificadores, ¿cuál o cuáles consideras que son adecuados para los datos? ¿Qué propiedades tienen dichos modelos que los hacen apropiados para los datos? Argumenta tu respuesta.</strong>\n",
    "        <ul>\n",
    "            <li><strong>Logistic Regression:</strong> Precisión promedio de 0.905, es simple, interpretable y eficiente. Ideal para relaciones lineales y conjuntos de datos pequeños.</li>\n",
    "            <li><strong>Support Vector Classifier (SVC):</strong> Precisión promedio de 0.900, flexible con margen máximo, adecuado para datos no lineales y con ruido.</li>\n",
    "            <li><strong>Gaussian Naive Bayes:</strong> Precisión promedio de 0.900, rápido y eficiente para datos pequeños, basado en la independencia entre características.</li>\n",
    "            <li>Estos modelos son apropiados por su buen rendimiento, eficiencia y capacidad de interpretación.</li>\n",
    "        </ul>\n",
    "    </li>\n",
    "    <br>\n",
    "    <li>\n",
    "        <strong>¿Es posible reducir la dimensionalidad del problema sin perder rendimiento en el modelo? ¿Por qué?</strong>\n",
    "        <ul>\n",
    "            <li><strong>Selección Óptima:</strong> El número óptimo de características es 12, donde la precisión del modelo es máxima (0.8818). Esto indica que el modelo se beneficia de una cierta cantidad de características sin perder rendimiento, y más características podrían no ofrecer mejoras significativas.</li>\n",
    "            <li><strong>Eficiencia:</strong> Reducir la dimensionalidad puede mejorar la eficiencia del modelo, haciendo que sea más rápido de entrenar y menos propenso al sobreajuste, siempre y cuando se mantengan las características más relevantes.</li>\n",
    "        </ul>\n",
    "    </li>\n",
    "    <br>\n",
    "    <li>\n",
    "        <strong>¿Qué método de selección de características consideras el más adecuado para este caso? ¿Por qué?</strong>\n",
    "        <ul>\n",
    "            <li><strong>Rendimiento Óptimo:</strong> RFE logra el mejor rendimiento en términos de precisión (ACC) con un número óptimo de 13 características (0.9002). Esto supera a los otros métodos, que ofrecen un rendimiento máximo con menos características.</li>\n",
    "            <li><strong>Incremento en Precisión:</strong> A medida que se añaden más características con RFE, la precisión sigue aumentando hasta llegar a un punto óptimo con 13 características. Esto indica que RFE selecciona características de alta calidad que contribuyen significativamente al rendimiento del modelo.</li>\n",
    "            <li><strong>Consistencia y Adaptación:</strong> RFE evalúa la importancia de las características y elimina las menos significativas de manera iterativa, lo que permite una selección más precisa y adaptada al rendimiento del modelo. RFE es el método más adecuado para tu caso porque maximiza la precisión del modelo y proporciona una selección de características que realmente mejora el rendimiento.</li>\n",
    "        </ul>\n",
    "    </li>\n",
    "    <br>\n",
    "    <li>\n",
    "        <strong>Si quisieras mejorar el rendimiento de tus modelos, ¿qué más se podría hacer?</strong>\n",
    "        <ul>\n",
    "            <li><strong>Ajuste de Hiperparámetros:</strong> Realiza una búsqueda exhaustiva de hiperparámetros usando Grid Search o Random Search para encontrar las mejores configuraciones para tus modelos.</li>\n",
    "            <li><strong>Ingeniería de Características:</strong> Crea nuevas características basadas en el conocimiento del dominio y la combinación de características existentes para mejorar la capacidad del modelo de capturar patrones relevantes.</li>\n",
    "            <li><strong>Manejo del Desbalance de Clases:</strong> Implementa técnicas para manejar el desbalance de clases, como el sobremuestreo o el submuestreo, para mejorar el rendimiento en clases minoritarias.</li>\n",
    "        </ul>\n",
    "    </li>\n",
    "</ul>\n"
   ],
   "id": "741677ef16c6147d"
  }
 ],
 "metadata": {
  "kernelspec": {
   "display_name": "Python 3",
   "language": "python",
   "name": "python3"
  },
  "language_info": {
   "codemirror_mode": {
    "name": "ipython",
    "version": 2
   },
   "file_extension": ".py",
   "mimetype": "text/x-python",
   "name": "python",
   "nbconvert_exporter": "python",
   "pygments_lexer": "ipython2",
   "version": "2.7.6"
  }
 },
 "nbformat": 4,
 "nbformat_minor": 5
}
