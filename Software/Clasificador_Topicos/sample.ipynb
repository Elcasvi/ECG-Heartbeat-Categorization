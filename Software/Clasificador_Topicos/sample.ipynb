{
 "cells": [
  {
   "cell_type": "markdown",
   "id": "8a77807f92f26ee",
   "metadata": {},
   "source": [
    "<h1>Actividad Clasificador de topicos</h1>\n",
    "<h2>Martes 10 de Agosto</h2>\n",
    "<ol>\n",
    "<li>Elegir dos topicos</li>\n",
    "<li>Obtener al menos 50 frases para cada topico</li>\n",
    "<li>Definir un set con almenos 25 frases de cada tópico</li>\n",
    "<li>Definir el código para entrenar un modelo de SGD o Naive Bayes</li>\n",
    "</ol>\n",
    "\n"
   ]
  },
  {
   "cell_type": "code",
   "execution_count": null,
   "id": "fbc121e30a2defb3",
   "metadata": {},
   "outputs": [],
   "source": [
    "import pandas as np"
   ]
  }
 ],
 "metadata": {
  "kernelspec": {
   "display_name": "Python 3",
   "language": "python",
   "name": "python3"
  },
  "language_info": {
   "codemirror_mode": {
    "name": "ipython",
    "version": 2
   },
   "file_extension": ".py",
   "mimetype": "text/x-python",
   "name": "python",
   "nbconvert_exporter": "python",
   "pygments_lexer": "ipython2",
   "version": "2.7.6"
  }
 },
 "nbformat": 4,
 "nbformat_minor": 5
}
