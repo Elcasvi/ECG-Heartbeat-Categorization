{
 "cells": [
  {
   "cell_type": "markdown",
   "id": "8a77807f92f26ee",
   "metadata": {},
   "source": [
    "<h1>Actividad Clasificador de topicos</h1>\n",
    "<h2>Martes 10 de Agosto</h2>\n",
    "<ol>\n",
    "<li>Elegir dos topicos</li>\n",
    "<li>Obtener al menos 50 frases para cada topico</li>\n",
    "<li>Definir un set con almenos 25 frases de cada tópico</li>\n",
    "<li>Definir el código para entrenar un modelo de SGD o Naive Bayes</li>\n",
    "</ol>\n",
    "\n"
   ]
  },
  {
   "cell_type": "code",
   "id": "fbc121e30a2defb3",
   "metadata": {
    "ExecuteTime": {
     "end_time": "2024-08-23T00:07:38.335143Z",
     "start_time": "2024-08-23T00:07:38.329672Z"
    }
   },
   "source": [
    "import numpy as np\n",
    "import pandas as pd\n",
    "from scipy.sparse import csr_array\n",
    "from sklearn.metrics.pairwise import cosine_similarity\n",
    "from sklearn.feature_extraction.text import CountVectorizer\n",
    "from sklearn.naive_bayes import MultinomialNB\n",
    "from sklearn import metrics\n",
    "from collections import defaultdict\n",
    "import csv, sys"
   ],
   "outputs": [],
   "execution_count": 375
  },
  {
   "metadata": {
    "ExecuteTime": {
     "end_time": "2024-08-23T00:07:38.525048Z",
     "start_time": "2024-08-23T00:07:38.513623Z"
    }
   },
   "cell_type": "code",
   "source": [
    "canciones_df=pd.read_csv('data/Canciones Romanticas.csv')\n",
    "documentacion_df=pd.read_csv('data/Lenguajes de programacion.csv')\n",
    "canciones_df=canciones_df.iloc[:, 0].tolist()\n",
    "documentacion_df=documentacion_df.iloc[:, 0].tolist()\n",
    "\n",
    "canciones_df\n",
    "documentacion_df"
   ],
   "id": "28731973e2c529fb",
   "outputs": [
    {
     "data": {
      "text/plain": [
       "['The break statement exits from a loop or switch statement.',\n",
       " 'The continue statement skips the remaining code in a loop iteration and proceeds to the next iteration.',\n",
       " 'The for loop executes a block of code a specified number of times.',\n",
       " 'The foreach loop iterates over a collection of items.',\n",
       " 'The while loop executes a block of code as long as a specified condition is true.',\n",
       " 'The do loop executes a block of code once then repeats the execution as long as a specified condition is true.',\n",
       " 'The try catch statement is used for exception handling.',\n",
       " 'The interface keyword defines a contract that classes must follow.',\n",
       " 'The new keyword creates an instance of a class or struct.',\n",
       " 'The return statement exits a method and optionally returns a value.',\n",
       " 'The base keyword refers to the base class of the current instance.',\n",
       " 'The this keyword refers to the current instance of a class.',\n",
       " 'The params keyword allows a method to accept a variable number of arguments.',\n",
       " 'The null keyword represents a null reference.',\n",
       " 'The is keyword checks if an object is compatible with a given type.',\n",
       " 'The as keyword attempts to cast an object to a specified type returning null if the cast fails.',\n",
       " 'The enum keyword defines a set of named constants.',\n",
       " 'The typeof keyword obtains the System.Type object for a type.',\n",
       " 'The dynamic keyword allows for dynamic type checking at runtime.',\n",
       " 'The object type is the base type for all types in C sharp.',\n",
       " 'The var keyword infers the type of a variable from the expression on the right side of the assignment.',\n",
       " 'The lock statement ensures that a block of code runs by only one thread at a time.',\n",
       " 'The using statement ensures that resources are properly disposed of.',\n",
       " 'The null coalescing operator provides a default value if the left-hand operand is null.']"
      ]
     },
     "execution_count": 376,
     "metadata": {},
     "output_type": "execute_result"
    }
   ],
   "execution_count": 376
  },
  {
   "metadata": {
    "ExecuteTime": {
     "end_time": "2024-08-23T00:07:38.569088Z",
     "start_time": "2024-08-23T00:07:38.565055Z"
    }
   },
   "cell_type": "code",
   "source": [
    "canciones_df = list(map(str.lower,canciones_df))\n",
    "documentacion_df = list(map(str.lower,documentacion_df))"
   ],
   "id": "9d87f19915fdab2f",
   "outputs": [],
   "execution_count": 377
  },
  {
   "metadata": {
    "ExecuteTime": {
     "end_time": "2024-08-23T00:07:38.611363Z",
     "start_time": "2024-08-23T00:07:38.606095Z"
    }
   },
   "cell_type": "code",
   "source": "canciones_df",
   "id": "2be9984f4ff933bd",
   "outputs": [
    {
     "data": {
      "text/plain": [
       "['trying to hold on to your high-class love',\n",
       " 'you stick around now it may show',\n",
       " 'before i say another word let me tell you i love you',\n",
       " \"you've got my head spinning no kidding i can't pin you down\",\n",
       " 'my heart was wrapped up in clover',\n",
       " 'wise men say only fools rush in',\n",
       " 'i hate to turn up out of the blue uninvited',\n",
       " 'and i hope life will treat you kind',\n",
       " 'are you somewhere feeling lonely or is someone loving you?',\n",
       " 'what can make me feel this way?',\n",
       " 'he can never want some other girl',\n",
       " 'if you leave me now you´ll take away the biggest part of me',\n",
       " \"i'll be the moon when the sun goes down\",\n",
       " 'love your curves and all your edges',\n",
       " 'sometimes it lasts in love but sometimes it hurts instead',\n",
       " \"that i should've bought you flowers and held your hand\",\n",
       " 'true love breathes salvation back into me',\n",
       " 'and tell you time and time again how much i care',\n",
       " \"i've got all the riches baby one man can claim\",\n",
       " 'it started out as a feeling which then grew into a hope',\n",
       " \"that you found a girl and you're married now\",\n",
       " \"i'll be the weeping willow drowning in my tears\",\n",
       " \"and i'll be the rainbow after the tears are gone\",\n",
       " \"but i'm willing to give it another try\"]"
      ]
     },
     "execution_count": 378,
     "metadata": {},
     "output_type": "execute_result"
    }
   ],
   "execution_count": 378
  },
  {
   "metadata": {
    "ExecuteTime": {
     "end_time": "2024-08-23T00:07:38.647209Z",
     "start_time": "2024-08-23T00:07:38.643362Z"
    }
   },
   "cell_type": "code",
   "source": "categories = ['canciones', 'documentacion']",
   "id": "e7f2049e8d434958",
   "outputs": [],
   "execution_count": 379
  },
  {
   "metadata": {
    "ExecuteTime": {
     "end_time": "2024-08-23T00:07:38.688621Z",
     "start_time": "2024-08-23T00:07:38.674219Z"
    }
   },
   "cell_type": "code",
   "source": [
    "# Join individual documents to calculate cosine similarity\n",
    "canciones = ' '.join(canciones_df)\n",
    "documentacion = ' '.join(documentacion_df)\n",
    "documents = [canciones,documentacion]\n",
    "count_vectorizer = CountVectorizer(stop_words=\"english\")\n",
    "#count_vectorizer = CountVectorizer()\n",
    "sparse_matrix = count_vectorizer.fit_transform(documents)\n",
    "\n",
    "doc_term_matrix = sparse_matrix.todense()\n",
    "df = pd.DataFrame(\n",
    "   doc_term_matrix,\n",
    "   columns=count_vectorizer.get_feature_names_out(),\n",
    "   index=[\"canciones\", \"documentacion\"],\n",
    ")\n",
    "print(df)\n",
    "print(cosine_similarity(df, df))"
   ],
   "id": "76ef2cd22e89a358",
   "outputs": [
    {
     "name": "stdout",
     "output_type": "stream",
     "text": [
      "               accept  allows  arguments  assignment  attempts  away  baby  \\\n",
      "canciones           0       0          0           0         0     1     1   \n",
      "documentacion       1       2          1           1         1     0     0   \n",
      "\n",
      "               base  biggest  block  ...  variable  ve  want  way  weeping  \\\n",
      "canciones         0        1      0  ...         0   3     1    1        1   \n",
      "documentacion     3        0      4  ...         2   0     0    0        0   \n",
      "\n",
      "               willing  willow  wise  word  wrapped  \n",
      "canciones            1       1     1     1        1  \n",
      "documentacion        0       0     0     0        0  \n",
      "\n",
      "[2 rows x 168 columns]\n",
      "[[1.         0.03147546]\n",
      " [0.03147546 1.        ]]\n"
     ]
    }
   ],
   "execution_count": 380
  },
  {
   "metadata": {
    "ExecuteTime": {
     "end_time": "2024-08-23T00:07:38.711751Z",
     "start_time": "2024-08-23T00:07:38.706630Z"
    }
   },
   "cell_type": "code",
   "source": "df.shape",
   "id": "9bf5e7974dd6a49e",
   "outputs": [
    {
     "data": {
      "text/plain": [
       "(2, 168)"
      ]
     },
     "execution_count": 381,
     "metadata": {},
     "output_type": "execute_result"
    }
   ],
   "execution_count": 381
  },
  {
   "metadata": {},
   "cell_type": "markdown",
   "source": [
    "Identify common tokens and resolve\n",
    "\n",
    "the first approach, delete all, is not right; delete those elements that are less frequent. Example: paper [105 0 5] delete for segment 15 and 32, if the number is the same, delete the word is all bags of words.\n",
    "\n",
    "There are 201 terms.\n",
    "\n",
    "Create three lists to keep track of which tokens will be erased for each segment"
   ],
   "id": "d1b798a33ce0b2d8"
  },
  {
   "metadata": {
    "ExecuteTime": {
     "end_time": "2024-08-23T00:07:38.764655Z",
     "start_time": "2024-08-23T00:07:38.750748Z"
    }
   },
   "cell_type": "code",
   "source": [
    "i = 0\n",
    "commonTerms = []\n",
    "cancionesdelete = []\n",
    "documentaciondelete = []\n",
    "for (columnName, columnData) in df.items():\n",
    "    nOcurrences = sum(x != 0 for x in columnData.values)\n",
    "    if nOcurrences > 1:\n",
    "      i = i + 1\n",
    "      commonTerms.append(columnName) # keep track of all the common terms\n",
    "      print('Token : ', columnName)\n",
    "      print('Token Frequency : ', columnData.values)\n",
    "      print('Token Repetition', sum(x != 0 for x in columnData.values))\n",
    "      cancionescount = columnData.values[0]\n",
    "      documentacioncount = columnData.values[1]\n",
    "      print('Canciones Token count ', cancionescount)\n",
    "      print('Documentacion Token count ', documentacioncount)\n",
    "      # Less frequent tokens are deleted from the bag of words\n",
    "      if (cancionescount > documentacioncount) and (cancionescount > documentacioncount):\n",
    "        print('Canciones wins')\n",
    "        documentaciondelete.append(columnName)\n",
    "      elif (documentacioncount > cancionescount) and (documentacioncount > cancionescount):\n",
    "        print('Documentacion wins')\n",
    "        cancionesdelete.append(columnName)\n",
    "      else: # there is a tie, the tokens is destroyed\n",
    "        cancionesdelete.append(columnName)\n",
    "        documentaciondelete.append(columnName)\n",
    "print('Total terms ', i)"
   ],
   "id": "26db1071f76a1ca2",
   "outputs": [
    {
     "name": "stdout",
     "output_type": "stream",
     "text": [
      "Token :  class\n",
      "Token Frequency :  [1 3]\n",
      "Token Repetition 2\n",
      "Canciones Token count  1\n",
      "Documentacion Token count  3\n",
      "Documentacion wins\n",
      "Token :  hand\n",
      "Token Frequency :  [1 1]\n",
      "Token Repetition 2\n",
      "Canciones Token count  1\n",
      "Documentacion Token count  1\n",
      "Token :  time\n",
      "Token Frequency :  [2 1]\n",
      "Token Repetition 2\n",
      "Canciones Token count  2\n",
      "Documentacion Token count  1\n",
      "Canciones wins\n",
      "Token :  true\n",
      "Token Frequency :  [1 2]\n",
      "Token Repetition 2\n",
      "Canciones Token count  1\n",
      "Documentacion Token count  2\n",
      "Documentacion wins\n",
      "Token :  try\n",
      "Token Frequency :  [1 1]\n",
      "Token Repetition 2\n",
      "Canciones Token count  1\n",
      "Documentacion Token count  1\n",
      "Total terms  5\n"
     ]
    }
   ],
   "execution_count": 382
  },
  {
   "metadata": {
    "ExecuteTime": {
     "end_time": "2024-08-23T00:07:38.791232Z",
     "start_time": "2024-08-23T00:07:38.785663Z"
    }
   },
   "cell_type": "code",
   "source": [
    "cancionesc = []\n",
    "for string in canciones_df:\n",
    "  print(string)\n",
    "  cancionesc.append(' '.join(i for i in string.split() if i not in cancionesdelete))"
   ],
   "id": "2a5de3d8158142b1",
   "outputs": [
    {
     "name": "stdout",
     "output_type": "stream",
     "text": [
      "trying to hold on to your high-class love\n",
      "you stick around now it may show\n",
      "before i say another word let me tell you i love you\n",
      "you've got my head spinning no kidding i can't pin you down\n",
      "my heart was wrapped up in clover\n",
      "wise men say only fools rush in\n",
      "i hate to turn up out of the blue uninvited\n",
      "and i hope life will treat you kind\n",
      "are you somewhere feeling lonely or is someone loving you?\n",
      "what can make me feel this way?\n",
      "he can never want some other girl\n",
      "if you leave me now you´ll take away the biggest part of me\n",
      "i'll be the moon when the sun goes down\n",
      "love your curves and all your edges\n",
      "sometimes it lasts in love but sometimes it hurts instead\n",
      "that i should've bought you flowers and held your hand\n",
      "true love breathes salvation back into me\n",
      "and tell you time and time again how much i care\n",
      "i've got all the riches baby one man can claim\n",
      "it started out as a feeling which then grew into a hope\n",
      "that you found a girl and you're married now\n",
      "i'll be the weeping willow drowning in my tears\n",
      "and i'll be the rainbow after the tears are gone\n",
      "but i'm willing to give it another try\n"
     ]
    }
   ],
   "execution_count": 383
  },
  {
   "metadata": {
    "ExecuteTime": {
     "end_time": "2024-08-23T00:07:38.831771Z",
     "start_time": "2024-08-23T00:07:38.826240Z"
    }
   },
   "cell_type": "code",
   "source": [
    "documentacionc = []\n",
    "for string in documentacion_df:\n",
    "  print(string)\n",
    "  cancionesc.append(' '.join(i for i in string.split() if i not in documentaciondelete))"
   ],
   "id": "204ca24e06cc5062",
   "outputs": [
    {
     "name": "stdout",
     "output_type": "stream",
     "text": [
      "the break statement exits from a loop or switch statement.\n",
      "the continue statement skips the remaining code in a loop iteration and proceeds to the next iteration.\n",
      "the for loop executes a block of code a specified number of times.\n",
      "the foreach loop iterates over a collection of items.\n",
      "the while loop executes a block of code as long as a specified condition is true.\n",
      "the do loop executes a block of code once then repeats the execution as long as a specified condition is true.\n",
      "the try catch statement is used for exception handling.\n",
      "the interface keyword defines a contract that classes must follow.\n",
      "the new keyword creates an instance of a class or struct.\n",
      "the return statement exits a method and optionally returns a value.\n",
      "the base keyword refers to the base class of the current instance.\n",
      "the this keyword refers to the current instance of a class.\n",
      "the params keyword allows a method to accept a variable number of arguments.\n",
      "the null keyword represents a null reference.\n",
      "the is keyword checks if an object is compatible with a given type.\n",
      "the as keyword attempts to cast an object to a specified type returning null if the cast fails.\n",
      "the enum keyword defines a set of named constants.\n",
      "the typeof keyword obtains the system.type object for a type.\n",
      "the dynamic keyword allows for dynamic type checking at runtime.\n",
      "the object type is the base type for all types in c sharp.\n",
      "the var keyword infers the type of a variable from the expression on the right side of the assignment.\n",
      "the lock statement ensures that a block of code runs by only one thread at a time.\n",
      "the using statement ensures that resources are properly disposed of.\n",
      "the null coalescing operator provides a default value if the left-hand operand is null.\n"
     ]
    }
   ],
   "execution_count": 384
  },
  {
   "metadata": {
    "ExecuteTime": {
     "end_time": "2024-08-23T00:07:38.860258Z",
     "start_time": "2024-08-23T00:07:38.848778Z"
    }
   },
   "cell_type": "code",
   "source": [
    "# Join individual documents to calculate cosine similarity after cleansing\n",
    "# Reduction of the cosine similarity\n",
    "canciones = ' '.join(cancionesc)\n",
    "documentacion = ' '.join(documentacionc)\n",
    "documents = [canciones, documentacion]\n",
    "count_vectorizer = CountVectorizer(stop_words=\"english\")\n",
    "#count_vectorizer = CountVectorizer()\n",
    "sparse_matrix = count_vectorizer.fit_transform(documents)\n",
    "\n",
    "doc_term_matrix = sparse_matrix.todense()\n",
    "df = pd.DataFrame(\n",
    "   doc_term_matrix,\n",
    "   columns=count_vectorizer.get_feature_names_out(),\n",
    "   index=[\"canciones\", \"documentacion\"],\n",
    ")\n",
    "print(df)\n",
    "print(cosine_similarity(df, df))"
   ],
   "id": "60486b98e9dc9ac5",
   "outputs": [
    {
     "name": "stdout",
     "output_type": "stream",
     "text": [
      "               accept  allows  arguments  assignment  attempts  away  baby  \\\n",
      "canciones           1       2          1           1         1     1     1   \n",
      "documentacion       0       0          0           0         0     0     0   \n",
      "\n",
      "               base  biggest  block  ...  variable  ve  want  way  weeping  \\\n",
      "canciones         3        1      4  ...         2   3     1    1        1   \n",
      "documentacion     0        0      0  ...         0   0     0    0        0   \n",
      "\n",
      "               willing  willow  wise  word  wrapped  \n",
      "canciones            1       1     1     1        1  \n",
      "documentacion        0       0     0     0        0  \n",
      "\n",
      "[2 rows x 167 columns]\n",
      "[[1. 0.]\n",
      " [0. 0.]]\n"
     ]
    }
   ],
   "execution_count": 385
  },
  {
   "metadata": {
    "ExecuteTime": {
     "end_time": "2024-08-23T00:07:38.903804Z",
     "start_time": "2024-08-23T00:07:38.896270Z"
    }
   },
   "cell_type": "code",
   "source": [
    "fullTrainingDatac = cancionesc + documentacionc\n",
    "cancionesvaluesc = [1] * len(cancionesc)\n",
    "documentacionvaluesc = [2] * len(documentacionc)\n",
    "fullDataClassificationc = cancionesvaluesc + documentacionvaluesc\n",
    "\n",
    "count_vect = CountVectorizer(stop_words='english')\n",
    "X_products_countsc = count_vect.fit_transform(fullTrainingDatac)\n",
    "X_products_countsc.shape"
   ],
   "id": "f90588144398befb",
   "outputs": [
    {
     "data": {
      "text/plain": [
       "(48, 167)"
      ]
     },
     "execution_count": 386,
     "metadata": {},
     "output_type": "execute_result"
    }
   ],
   "execution_count": 386
  },
  {
   "metadata": {
    "ExecuteTime": {
     "end_time": "2024-08-23T00:07:38.932018Z",
     "start_time": "2024-08-23T00:07:38.927812Z"
    }
   },
   "cell_type": "code",
   "source": "fullTrainingData = canciones_df + documentacion_df",
   "id": "c240d5c71df74e5b",
   "outputs": [],
   "execution_count": 387
  },
  {
   "metadata": {
    "ExecuteTime": {
     "end_time": "2024-08-23T00:07:38.971449Z",
     "start_time": "2024-08-23T00:07:38.968025Z"
    }
   },
   "cell_type": "code",
   "source": [
    "cancionesvalues = [1] * len(canciones_df)\n",
    "documentacionvalues = [2] * len(documentacion_df)\n",
    "fullDataClassification = cancionesvalues + documentacionvalues"
   ],
   "id": "63e5e30caca07d6e",
   "outputs": [],
   "execution_count": 388
  },
  {
   "metadata": {
    "ExecuteTime": {
     "end_time": "2024-08-23T00:07:39.012567Z",
     "start_time": "2024-08-23T00:07:39.005478Z"
    }
   },
   "cell_type": "code",
   "source": [
    "from sklearn.feature_extraction.text import CountVectorizer\n",
    "count_vect = CountVectorizer(stop_words='english')\n",
    "X_products_counts = count_vect.fit_transform(fullTrainingData)\n",
    "X_products_counts.shape"
   ],
   "id": "7fff130bfbf4c6a7",
   "outputs": [
    {
     "data": {
      "text/plain": [
       "(48, 168)"
      ]
     },
     "execution_count": 389,
     "metadata": {},
     "output_type": "execute_result"
    }
   ],
   "execution_count": 389
  },
  {
   "metadata": {},
   "cell_type": "markdown",
   "source": "These are the term matrices",
   "id": "81ad0325b94e7a72"
  },
  {
   "metadata": {
    "ExecuteTime": {
     "end_time": "2024-08-23T00:07:39.040108Z",
     "start_time": "2024-08-23T00:07:39.027546Z"
    }
   },
   "cell_type": "code",
   "source": [
    "doc_term_matrix = X_products_counts.todense()\n",
    "df = pd.DataFrame(\n",
    "   doc_term_matrix,\n",
    "   columns=count_vect.get_feature_names_out()\n",
    ")\n",
    "print(df)\n",
    "print(cosine_similarity(df, df))"
   ],
   "id": "7351c54b9a3767ec",
   "outputs": [
    {
     "name": "stdout",
     "output_type": "stream",
     "text": [
      "    accept  allows  arguments  assignment  attempts  away  baby  base  \\\n",
      "0        0       0          0           0         0     0     0     0   \n",
      "1        0       0          0           0         0     0     0     0   \n",
      "2        0       0          0           0         0     0     0     0   \n",
      "3        0       0          0           0         0     0     0     0   \n",
      "4        0       0          0           0         0     0     0     0   \n",
      "5        0       0          0           0         0     0     0     0   \n",
      "6        0       0          0           0         0     0     0     0   \n",
      "7        0       0          0           0         0     0     0     0   \n",
      "8        0       0          0           0         0     0     0     0   \n",
      "9        0       0          0           0         0     0     0     0   \n",
      "10       0       0          0           0         0     0     0     0   \n",
      "11       0       0          0           0         0     1     0     0   \n",
      "12       0       0          0           0         0     0     0     0   \n",
      "13       0       0          0           0         0     0     0     0   \n",
      "14       0       0          0           0         0     0     0     0   \n",
      "15       0       0          0           0         0     0     0     0   \n",
      "16       0       0          0           0         0     0     0     0   \n",
      "17       0       0          0           0         0     0     0     0   \n",
      "18       0       0          0           0         0     0     1     0   \n",
      "19       0       0          0           0         0     0     0     0   \n",
      "20       0       0          0           0         0     0     0     0   \n",
      "21       0       0          0           0         0     0     0     0   \n",
      "22       0       0          0           0         0     0     0     0   \n",
      "23       0       0          0           0         0     0     0     0   \n",
      "24       0       0          0           0         0     0     0     0   \n",
      "25       0       0          0           0         0     0     0     0   \n",
      "26       0       0          0           0         0     0     0     0   \n",
      "27       0       0          0           0         0     0     0     0   \n",
      "28       0       0          0           0         0     0     0     0   \n",
      "29       0       0          0           0         0     0     0     0   \n",
      "30       0       0          0           0         0     0     0     0   \n",
      "31       0       0          0           0         0     0     0     0   \n",
      "32       0       0          0           0         0     0     0     0   \n",
      "33       0       0          0           0         0     0     0     0   \n",
      "34       0       0          0           0         0     0     0     2   \n",
      "35       0       0          0           0         0     0     0     0   \n",
      "36       1       1          1           0         0     0     0     0   \n",
      "37       0       0          0           0         0     0     0     0   \n",
      "38       0       0          0           0         0     0     0     0   \n",
      "39       0       0          0           0         1     0     0     0   \n",
      "40       0       0          0           0         0     0     0     0   \n",
      "41       0       0          0           0         0     0     0     0   \n",
      "42       0       1          0           0         0     0     0     0   \n",
      "43       0       0          0           0         0     0     0     1   \n",
      "44       0       0          0           1         0     0     0     0   \n",
      "45       0       0          0           0         0     0     0     0   \n",
      "46       0       0          0           0         0     0     0     0   \n",
      "47       0       0          0           0         0     0     0     0   \n",
      "\n",
      "    biggest  block  ...  variable  ve  want  way  weeping  willing  willow  \\\n",
      "0         0      0  ...         0   0     0    0        0        0       0   \n",
      "1         0      0  ...         0   0     0    0        0        0       0   \n",
      "2         0      0  ...         0   0     0    0        0        0       0   \n",
      "3         0      0  ...         0   1     0    0        0        0       0   \n",
      "4         0      0  ...         0   0     0    0        0        0       0   \n",
      "5         0      0  ...         0   0     0    0        0        0       0   \n",
      "6         0      0  ...         0   0     0    0        0        0       0   \n",
      "7         0      0  ...         0   0     0    0        0        0       0   \n",
      "8         0      0  ...         0   0     0    0        0        0       0   \n",
      "9         0      0  ...         0   0     0    1        0        0       0   \n",
      "10        0      0  ...         0   0     1    0        0        0       0   \n",
      "11        1      0  ...         0   0     0    0        0        0       0   \n",
      "12        0      0  ...         0   0     0    0        0        0       0   \n",
      "13        0      0  ...         0   0     0    0        0        0       0   \n",
      "14        0      0  ...         0   0     0    0        0        0       0   \n",
      "15        0      0  ...         0   1     0    0        0        0       0   \n",
      "16        0      0  ...         0   0     0    0        0        0       0   \n",
      "17        0      0  ...         0   0     0    0        0        0       0   \n",
      "18        0      0  ...         0   1     0    0        0        0       0   \n",
      "19        0      0  ...         0   0     0    0        0        0       0   \n",
      "20        0      0  ...         0   0     0    0        0        0       0   \n",
      "21        0      0  ...         0   0     0    0        1        0       1   \n",
      "22        0      0  ...         0   0     0    0        0        0       0   \n",
      "23        0      0  ...         0   0     0    0        0        1       0   \n",
      "24        0      0  ...         0   0     0    0        0        0       0   \n",
      "25        0      0  ...         0   0     0    0        0        0       0   \n",
      "26        0      1  ...         0   0     0    0        0        0       0   \n",
      "27        0      0  ...         0   0     0    0        0        0       0   \n",
      "28        0      1  ...         0   0     0    0        0        0       0   \n",
      "29        0      1  ...         0   0     0    0        0        0       0   \n",
      "30        0      0  ...         0   0     0    0        0        0       0   \n",
      "31        0      0  ...         0   0     0    0        0        0       0   \n",
      "32        0      0  ...         0   0     0    0        0        0       0   \n",
      "33        0      0  ...         0   0     0    0        0        0       0   \n",
      "34        0      0  ...         0   0     0    0        0        0       0   \n",
      "35        0      0  ...         0   0     0    0        0        0       0   \n",
      "36        0      0  ...         1   0     0    0        0        0       0   \n",
      "37        0      0  ...         0   0     0    0        0        0       0   \n",
      "38        0      0  ...         0   0     0    0        0        0       0   \n",
      "39        0      0  ...         0   0     0    0        0        0       0   \n",
      "40        0      0  ...         0   0     0    0        0        0       0   \n",
      "41        0      0  ...         0   0     0    0        0        0       0   \n",
      "42        0      0  ...         0   0     0    0        0        0       0   \n",
      "43        0      0  ...         0   0     0    0        0        0       0   \n",
      "44        0      0  ...         1   0     0    0        0        0       0   \n",
      "45        0      1  ...         0   0     0    0        0        0       0   \n",
      "46        0      0  ...         0   0     0    0        0        0       0   \n",
      "47        0      0  ...         0   0     0    0        0        0       0   \n",
      "\n",
      "    wise  word  wrapped  \n",
      "0      0     0        0  \n",
      "1      0     0        0  \n",
      "2      0     1        0  \n",
      "3      0     0        0  \n",
      "4      0     0        1  \n",
      "5      1     0        0  \n",
      "6      0     0        0  \n",
      "7      0     0        0  \n",
      "8      0     0        0  \n",
      "9      0     0        0  \n",
      "10     0     0        0  \n",
      "11     0     0        0  \n",
      "12     0     0        0  \n",
      "13     0     0        0  \n",
      "14     0     0        0  \n",
      "15     0     0        0  \n",
      "16     0     0        0  \n",
      "17     0     0        0  \n",
      "18     0     0        0  \n",
      "19     0     0        0  \n",
      "20     0     0        0  \n",
      "21     0     0        0  \n",
      "22     0     0        0  \n",
      "23     0     0        0  \n",
      "24     0     0        0  \n",
      "25     0     0        0  \n",
      "26     0     0        0  \n",
      "27     0     0        0  \n",
      "28     0     0        0  \n",
      "29     0     0        0  \n",
      "30     0     0        0  \n",
      "31     0     0        0  \n",
      "32     0     0        0  \n",
      "33     0     0        0  \n",
      "34     0     0        0  \n",
      "35     0     0        0  \n",
      "36     0     0        0  \n",
      "37     0     0        0  \n",
      "38     0     0        0  \n",
      "39     0     0        0  \n",
      "40     0     0        0  \n",
      "41     0     0        0  \n",
      "42     0     0        0  \n",
      "43     0     0        0  \n",
      "44     0     0        0  \n",
      "45     0     0        0  \n",
      "46     0     0        0  \n",
      "47     0     0        0  \n",
      "\n",
      "[48 rows x 168 columns]\n",
      "[[1.         0.         0.2        ... 0.         0.         0.        ]\n",
      " [0.         1.         0.         ... 0.         0.         0.        ]\n",
      " [0.2        0.         1.         ... 0.         0.         0.        ]\n",
      " ...\n",
      " [0.         0.         0.         ... 1.         0.28867513 0.        ]\n",
      " [0.         0.         0.         ... 0.28867513 1.         0.        ]\n",
      " [0.         0.         0.         ... 0.         0.         1.        ]]\n"
     ]
    }
   ],
   "execution_count": 390
  },
  {
   "metadata": {},
   "cell_type": "markdown",
   "source": "Create Inverse Matrix",
   "id": "8f3e54e38684559c"
  },
  {
   "metadata": {},
   "cell_type": "markdown",
   "source": "CountVectorizer team 2",
   "id": "1007bd8f308a2eda"
  },
  {
   "metadata": {
    "ExecuteTime": {
     "end_time": "2024-08-23T00:07:39.077018Z",
     "start_time": "2024-08-23T00:07:39.068118Z"
    }
   },
   "cell_type": "code",
   "source": [
    "from sklearn.feature_extraction.text import TfidfTransformer\n",
    "tfidf_transformer = TfidfTransformer()\n",
    "X_train_tfidf = tfidf_transformer.fit_transform(X_products_counts)\n",
    "X_train_tfidf.shape"
   ],
   "id": "276aa061ec532f74",
   "outputs": [
    {
     "data": {
      "text/plain": [
       "(48, 168)"
      ]
     },
     "execution_count": 391,
     "metadata": {},
     "output_type": "execute_result"
    }
   ],
   "execution_count": 391
  },
  {
   "metadata": {
    "ExecuteTime": {
     "end_time": "2024-08-23T00:07:39.170535Z",
     "start_time": "2024-08-23T00:07:39.164029Z"
    }
   },
   "cell_type": "code",
   "source": [
    "classlookup = None\n",
    "filename = 'data/test_data_ml_classifier(1).csv'\n",
    "with open(filename, newline='') as f:\n",
    "                reader = csv.reader(f)\n",
    "                try:\n",
    "                    classlookup = defaultdict(list)\n",
    "                    for key, val in reader:\n",
    "                        classlookup[key] = val\n",
    "                except csv.Error as e:\n",
    "                    sys.exit('file {}, line {}: {}'.format(filename, reader.line_num, e))"
   ],
   "id": "4fd50806c13bd058",
   "outputs": [],
   "execution_count": 392
  },
  {
   "metadata": {
    "ExecuteTime": {
     "end_time": "2024-08-23T00:07:39.199816Z",
     "start_time": "2024-08-23T00:07:39.194544Z"
    }
   },
   "cell_type": "code",
   "source": "test_set_golden = list(classlookup.values())",
   "id": "e74058c9273a0f54",
   "outputs": [],
   "execution_count": 393
  },
  {
   "metadata": {
    "ExecuteTime": {
     "end_time": "2024-08-23T00:07:39.260851Z",
     "start_time": "2024-08-23T00:07:39.256823Z"
    }
   },
   "cell_type": "code",
   "source": "test_set_golden = test_set_golden[1:]",
   "id": "10d76c90bd8c770",
   "outputs": [],
   "execution_count": 394
  },
  {
   "metadata": {
    "ExecuteTime": {
     "end_time": "2024-08-23T00:07:39.293327Z",
     "start_time": "2024-08-23T00:07:39.288862Z"
    }
   },
   "cell_type": "code",
   "source": "test_set_golden = [int(i) for i in test_set_golden]",
   "id": "640078144cde698a",
   "outputs": [],
   "execution_count": 395
  },
  {
   "metadata": {
    "ExecuteTime": {
     "end_time": "2024-08-23T00:07:39.325703Z",
     "start_time": "2024-08-23T00:07:39.322334Z"
    }
   },
   "cell_type": "code",
   "source": "docs_test = list(classlookup.keys())[1:]",
   "id": "8fbb916b77e3b10f",
   "outputs": [],
   "execution_count": 396
  },
  {
   "metadata": {
    "ExecuteTime": {
     "end_time": "2024-08-23T00:07:39.356662Z",
     "start_time": "2024-08-23T00:07:39.351701Z"
    }
   },
   "cell_type": "code",
   "source": [
    "from sklearn.pipeline import Pipeline\n",
    "text_clf = Pipeline([\n",
    "    ('vect', CountVectorizer()),\n",
    "    ('tfidf', TfidfTransformer()),\n",
    "    ('clf', MultinomialNB()),\n",
    "])"
   ],
   "id": "ac38f87619d84dcc",
   "outputs": [],
   "execution_count": 397
  },
  {
   "metadata": {
    "ExecuteTime": {
     "end_time": "2024-08-23T00:07:39.395727Z",
     "start_time": "2024-08-23T00:07:39.381670Z"
    }
   },
   "cell_type": "code",
   "source": "text_clf.fit(fullTrainingData, fullDataClassification)",
   "id": "114f9ad778cb7c8e",
   "outputs": [
    {
     "data": {
      "text/plain": [
       "Pipeline(steps=[('vect', CountVectorizer()), ('tfidf', TfidfTransformer()),\n",
       "                ('clf', MultinomialNB())])"
      ],
      "text/html": [
       "<style>#sk-container-id-8 {\n",
       "  /* Definition of color scheme common for light and dark mode */\n",
       "  --sklearn-color-text: black;\n",
       "  --sklearn-color-line: gray;\n",
       "  /* Definition of color scheme for unfitted estimators */\n",
       "  --sklearn-color-unfitted-level-0: #fff5e6;\n",
       "  --sklearn-color-unfitted-level-1: #f6e4d2;\n",
       "  --sklearn-color-unfitted-level-2: #ffe0b3;\n",
       "  --sklearn-color-unfitted-level-3: chocolate;\n",
       "  /* Definition of color scheme for fitted estimators */\n",
       "  --sklearn-color-fitted-level-0: #f0f8ff;\n",
       "  --sklearn-color-fitted-level-1: #d4ebff;\n",
       "  --sklearn-color-fitted-level-2: #b3dbfd;\n",
       "  --sklearn-color-fitted-level-3: cornflowerblue;\n",
       "\n",
       "  /* Specific color for light theme */\n",
       "  --sklearn-color-text-on-default-background: var(--sg-text-color, var(--theme-code-foreground, var(--jp-content-font-color1, black)));\n",
       "  --sklearn-color-background: var(--sg-background-color, var(--theme-background, var(--jp-layout-color0, white)));\n",
       "  --sklearn-color-border-box: var(--sg-text-color, var(--theme-code-foreground, var(--jp-content-font-color1, black)));\n",
       "  --sklearn-color-icon: #696969;\n",
       "\n",
       "  @media (prefers-color-scheme: dark) {\n",
       "    /* Redefinition of color scheme for dark theme */\n",
       "    --sklearn-color-text-on-default-background: var(--sg-text-color, var(--theme-code-foreground, var(--jp-content-font-color1, white)));\n",
       "    --sklearn-color-background: var(--sg-background-color, var(--theme-background, var(--jp-layout-color0, #111)));\n",
       "    --sklearn-color-border-box: var(--sg-text-color, var(--theme-code-foreground, var(--jp-content-font-color1, white)));\n",
       "    --sklearn-color-icon: #878787;\n",
       "  }\n",
       "}\n",
       "\n",
       "#sk-container-id-8 {\n",
       "  color: var(--sklearn-color-text);\n",
       "}\n",
       "\n",
       "#sk-container-id-8 pre {\n",
       "  padding: 0;\n",
       "}\n",
       "\n",
       "#sk-container-id-8 input.sk-hidden--visually {\n",
       "  border: 0;\n",
       "  clip: rect(1px 1px 1px 1px);\n",
       "  clip: rect(1px, 1px, 1px, 1px);\n",
       "  height: 1px;\n",
       "  margin: -1px;\n",
       "  overflow: hidden;\n",
       "  padding: 0;\n",
       "  position: absolute;\n",
       "  width: 1px;\n",
       "}\n",
       "\n",
       "#sk-container-id-8 div.sk-dashed-wrapped {\n",
       "  border: 1px dashed var(--sklearn-color-line);\n",
       "  margin: 0 0.4em 0.5em 0.4em;\n",
       "  box-sizing: border-box;\n",
       "  padding-bottom: 0.4em;\n",
       "  background-color: var(--sklearn-color-background);\n",
       "}\n",
       "\n",
       "#sk-container-id-8 div.sk-container {\n",
       "  /* jupyter's `normalize.less` sets `[hidden] { display: none; }`\n",
       "     but bootstrap.min.css set `[hidden] { display: none !important; }`\n",
       "     so we also need the `!important` here to be able to override the\n",
       "     default hidden behavior on the sphinx rendered scikit-learn.org.\n",
       "     See: https://github.com/scikit-learn/scikit-learn/issues/21755 */\n",
       "  display: inline-block !important;\n",
       "  position: relative;\n",
       "}\n",
       "\n",
       "#sk-container-id-8 div.sk-text-repr-fallback {\n",
       "  display: none;\n",
       "}\n",
       "\n",
       "div.sk-parallel-item,\n",
       "div.sk-serial,\n",
       "div.sk-item {\n",
       "  /* draw centered vertical line to link estimators */\n",
       "  background-image: linear-gradient(var(--sklearn-color-text-on-default-background), var(--sklearn-color-text-on-default-background));\n",
       "  background-size: 2px 100%;\n",
       "  background-repeat: no-repeat;\n",
       "  background-position: center center;\n",
       "}\n",
       "\n",
       "/* Parallel-specific style estimator block */\n",
       "\n",
       "#sk-container-id-8 div.sk-parallel-item::after {\n",
       "  content: \"\";\n",
       "  width: 100%;\n",
       "  border-bottom: 2px solid var(--sklearn-color-text-on-default-background);\n",
       "  flex-grow: 1;\n",
       "}\n",
       "\n",
       "#sk-container-id-8 div.sk-parallel {\n",
       "  display: flex;\n",
       "  align-items: stretch;\n",
       "  justify-content: center;\n",
       "  background-color: var(--sklearn-color-background);\n",
       "  position: relative;\n",
       "}\n",
       "\n",
       "#sk-container-id-8 div.sk-parallel-item {\n",
       "  display: flex;\n",
       "  flex-direction: column;\n",
       "}\n",
       "\n",
       "#sk-container-id-8 div.sk-parallel-item:first-child::after {\n",
       "  align-self: flex-end;\n",
       "  width: 50%;\n",
       "}\n",
       "\n",
       "#sk-container-id-8 div.sk-parallel-item:last-child::after {\n",
       "  align-self: flex-start;\n",
       "  width: 50%;\n",
       "}\n",
       "\n",
       "#sk-container-id-8 div.sk-parallel-item:only-child::after {\n",
       "  width: 0;\n",
       "}\n",
       "\n",
       "/* Serial-specific style estimator block */\n",
       "\n",
       "#sk-container-id-8 div.sk-serial {\n",
       "  display: flex;\n",
       "  flex-direction: column;\n",
       "  align-items: center;\n",
       "  background-color: var(--sklearn-color-background);\n",
       "  padding-right: 1em;\n",
       "  padding-left: 1em;\n",
       "}\n",
       "\n",
       "\n",
       "/* Toggleable style: style used for estimator/Pipeline/ColumnTransformer box that is\n",
       "clickable and can be expanded/collapsed.\n",
       "- Pipeline and ColumnTransformer use this feature and define the default style\n",
       "- Estimators will overwrite some part of the style using the `sk-estimator` class\n",
       "*/\n",
       "\n",
       "/* Pipeline and ColumnTransformer style (default) */\n",
       "\n",
       "#sk-container-id-8 div.sk-toggleable {\n",
       "  /* Default theme specific background. It is overwritten whether we have a\n",
       "  specific estimator or a Pipeline/ColumnTransformer */\n",
       "  background-color: var(--sklearn-color-background);\n",
       "}\n",
       "\n",
       "/* Toggleable label */\n",
       "#sk-container-id-8 label.sk-toggleable__label {\n",
       "  cursor: pointer;\n",
       "  display: block;\n",
       "  width: 100%;\n",
       "  margin-bottom: 0;\n",
       "  padding: 0.5em;\n",
       "  box-sizing: border-box;\n",
       "  text-align: center;\n",
       "}\n",
       "\n",
       "#sk-container-id-8 label.sk-toggleable__label-arrow:before {\n",
       "  /* Arrow on the left of the label */\n",
       "  content: \"▸\";\n",
       "  float: left;\n",
       "  margin-right: 0.25em;\n",
       "  color: var(--sklearn-color-icon);\n",
       "}\n",
       "\n",
       "#sk-container-id-8 label.sk-toggleable__label-arrow:hover:before {\n",
       "  color: var(--sklearn-color-text);\n",
       "}\n",
       "\n",
       "/* Toggleable content - dropdown */\n",
       "\n",
       "#sk-container-id-8 div.sk-toggleable__content {\n",
       "  max-height: 0;\n",
       "  max-width: 0;\n",
       "  overflow: hidden;\n",
       "  text-align: left;\n",
       "  /* unfitted */\n",
       "  background-color: var(--sklearn-color-unfitted-level-0);\n",
       "}\n",
       "\n",
       "#sk-container-id-8 div.sk-toggleable__content.fitted {\n",
       "  /* fitted */\n",
       "  background-color: var(--sklearn-color-fitted-level-0);\n",
       "}\n",
       "\n",
       "#sk-container-id-8 div.sk-toggleable__content pre {\n",
       "  margin: 0.2em;\n",
       "  border-radius: 0.25em;\n",
       "  color: var(--sklearn-color-text);\n",
       "  /* unfitted */\n",
       "  background-color: var(--sklearn-color-unfitted-level-0);\n",
       "}\n",
       "\n",
       "#sk-container-id-8 div.sk-toggleable__content.fitted pre {\n",
       "  /* unfitted */\n",
       "  background-color: var(--sklearn-color-fitted-level-0);\n",
       "}\n",
       "\n",
       "#sk-container-id-8 input.sk-toggleable__control:checked~div.sk-toggleable__content {\n",
       "  /* Expand drop-down */\n",
       "  max-height: 200px;\n",
       "  max-width: 100%;\n",
       "  overflow: auto;\n",
       "}\n",
       "\n",
       "#sk-container-id-8 input.sk-toggleable__control:checked~label.sk-toggleable__label-arrow:before {\n",
       "  content: \"▾\";\n",
       "}\n",
       "\n",
       "/* Pipeline/ColumnTransformer-specific style */\n",
       "\n",
       "#sk-container-id-8 div.sk-label input.sk-toggleable__control:checked~label.sk-toggleable__label {\n",
       "  color: var(--sklearn-color-text);\n",
       "  background-color: var(--sklearn-color-unfitted-level-2);\n",
       "}\n",
       "\n",
       "#sk-container-id-8 div.sk-label.fitted input.sk-toggleable__control:checked~label.sk-toggleable__label {\n",
       "  background-color: var(--sklearn-color-fitted-level-2);\n",
       "}\n",
       "\n",
       "/* Estimator-specific style */\n",
       "\n",
       "/* Colorize estimator box */\n",
       "#sk-container-id-8 div.sk-estimator input.sk-toggleable__control:checked~label.sk-toggleable__label {\n",
       "  /* unfitted */\n",
       "  background-color: var(--sklearn-color-unfitted-level-2);\n",
       "}\n",
       "\n",
       "#sk-container-id-8 div.sk-estimator.fitted input.sk-toggleable__control:checked~label.sk-toggleable__label {\n",
       "  /* fitted */\n",
       "  background-color: var(--sklearn-color-fitted-level-2);\n",
       "}\n",
       "\n",
       "#sk-container-id-8 div.sk-label label.sk-toggleable__label,\n",
       "#sk-container-id-8 div.sk-label label {\n",
       "  /* The background is the default theme color */\n",
       "  color: var(--sklearn-color-text-on-default-background);\n",
       "}\n",
       "\n",
       "/* On hover, darken the color of the background */\n",
       "#sk-container-id-8 div.sk-label:hover label.sk-toggleable__label {\n",
       "  color: var(--sklearn-color-text);\n",
       "  background-color: var(--sklearn-color-unfitted-level-2);\n",
       "}\n",
       "\n",
       "/* Label box, darken color on hover, fitted */\n",
       "#sk-container-id-8 div.sk-label.fitted:hover label.sk-toggleable__label.fitted {\n",
       "  color: var(--sklearn-color-text);\n",
       "  background-color: var(--sklearn-color-fitted-level-2);\n",
       "}\n",
       "\n",
       "/* Estimator label */\n",
       "\n",
       "#sk-container-id-8 div.sk-label label {\n",
       "  font-family: monospace;\n",
       "  font-weight: bold;\n",
       "  display: inline-block;\n",
       "  line-height: 1.2em;\n",
       "}\n",
       "\n",
       "#sk-container-id-8 div.sk-label-container {\n",
       "  text-align: center;\n",
       "}\n",
       "\n",
       "/* Estimator-specific */\n",
       "#sk-container-id-8 div.sk-estimator {\n",
       "  font-family: monospace;\n",
       "  border: 1px dotted var(--sklearn-color-border-box);\n",
       "  border-radius: 0.25em;\n",
       "  box-sizing: border-box;\n",
       "  margin-bottom: 0.5em;\n",
       "  /* unfitted */\n",
       "  background-color: var(--sklearn-color-unfitted-level-0);\n",
       "}\n",
       "\n",
       "#sk-container-id-8 div.sk-estimator.fitted {\n",
       "  /* fitted */\n",
       "  background-color: var(--sklearn-color-fitted-level-0);\n",
       "}\n",
       "\n",
       "/* on hover */\n",
       "#sk-container-id-8 div.sk-estimator:hover {\n",
       "  /* unfitted */\n",
       "  background-color: var(--sklearn-color-unfitted-level-2);\n",
       "}\n",
       "\n",
       "#sk-container-id-8 div.sk-estimator.fitted:hover {\n",
       "  /* fitted */\n",
       "  background-color: var(--sklearn-color-fitted-level-2);\n",
       "}\n",
       "\n",
       "/* Specification for estimator info (e.g. \"i\" and \"?\") */\n",
       "\n",
       "/* Common style for \"i\" and \"?\" */\n",
       "\n",
       ".sk-estimator-doc-link,\n",
       "a:link.sk-estimator-doc-link,\n",
       "a:visited.sk-estimator-doc-link {\n",
       "  float: right;\n",
       "  font-size: smaller;\n",
       "  line-height: 1em;\n",
       "  font-family: monospace;\n",
       "  background-color: var(--sklearn-color-background);\n",
       "  border-radius: 1em;\n",
       "  height: 1em;\n",
       "  width: 1em;\n",
       "  text-decoration: none !important;\n",
       "  margin-left: 1ex;\n",
       "  /* unfitted */\n",
       "  border: var(--sklearn-color-unfitted-level-1) 1pt solid;\n",
       "  color: var(--sklearn-color-unfitted-level-1);\n",
       "}\n",
       "\n",
       ".sk-estimator-doc-link.fitted,\n",
       "a:link.sk-estimator-doc-link.fitted,\n",
       "a:visited.sk-estimator-doc-link.fitted {\n",
       "  /* fitted */\n",
       "  border: var(--sklearn-color-fitted-level-1) 1pt solid;\n",
       "  color: var(--sklearn-color-fitted-level-1);\n",
       "}\n",
       "\n",
       "/* On hover */\n",
       "div.sk-estimator:hover .sk-estimator-doc-link:hover,\n",
       ".sk-estimator-doc-link:hover,\n",
       "div.sk-label-container:hover .sk-estimator-doc-link:hover,\n",
       ".sk-estimator-doc-link:hover {\n",
       "  /* unfitted */\n",
       "  background-color: var(--sklearn-color-unfitted-level-3);\n",
       "  color: var(--sklearn-color-background);\n",
       "  text-decoration: none;\n",
       "}\n",
       "\n",
       "div.sk-estimator.fitted:hover .sk-estimator-doc-link.fitted:hover,\n",
       ".sk-estimator-doc-link.fitted:hover,\n",
       "div.sk-label-container:hover .sk-estimator-doc-link.fitted:hover,\n",
       ".sk-estimator-doc-link.fitted:hover {\n",
       "  /* fitted */\n",
       "  background-color: var(--sklearn-color-fitted-level-3);\n",
       "  color: var(--sklearn-color-background);\n",
       "  text-decoration: none;\n",
       "}\n",
       "\n",
       "/* Span, style for the box shown on hovering the info icon */\n",
       ".sk-estimator-doc-link span {\n",
       "  display: none;\n",
       "  z-index: 9999;\n",
       "  position: relative;\n",
       "  font-weight: normal;\n",
       "  right: .2ex;\n",
       "  padding: .5ex;\n",
       "  margin: .5ex;\n",
       "  width: min-content;\n",
       "  min-width: 20ex;\n",
       "  max-width: 50ex;\n",
       "  color: var(--sklearn-color-text);\n",
       "  box-shadow: 2pt 2pt 4pt #999;\n",
       "  /* unfitted */\n",
       "  background: var(--sklearn-color-unfitted-level-0);\n",
       "  border: .5pt solid var(--sklearn-color-unfitted-level-3);\n",
       "}\n",
       "\n",
       ".sk-estimator-doc-link.fitted span {\n",
       "  /* fitted */\n",
       "  background: var(--sklearn-color-fitted-level-0);\n",
       "  border: var(--sklearn-color-fitted-level-3);\n",
       "}\n",
       "\n",
       ".sk-estimator-doc-link:hover span {\n",
       "  display: block;\n",
       "}\n",
       "\n",
       "/* \"?\"-specific style due to the `<a>` HTML tag */\n",
       "\n",
       "#sk-container-id-8 a.estimator_doc_link {\n",
       "  float: right;\n",
       "  font-size: 1rem;\n",
       "  line-height: 1em;\n",
       "  font-family: monospace;\n",
       "  background-color: var(--sklearn-color-background);\n",
       "  border-radius: 1rem;\n",
       "  height: 1rem;\n",
       "  width: 1rem;\n",
       "  text-decoration: none;\n",
       "  /* unfitted */\n",
       "  color: var(--sklearn-color-unfitted-level-1);\n",
       "  border: var(--sklearn-color-unfitted-level-1) 1pt solid;\n",
       "}\n",
       "\n",
       "#sk-container-id-8 a.estimator_doc_link.fitted {\n",
       "  /* fitted */\n",
       "  border: var(--sklearn-color-fitted-level-1) 1pt solid;\n",
       "  color: var(--sklearn-color-fitted-level-1);\n",
       "}\n",
       "\n",
       "/* On hover */\n",
       "#sk-container-id-8 a.estimator_doc_link:hover {\n",
       "  /* unfitted */\n",
       "  background-color: var(--sklearn-color-unfitted-level-3);\n",
       "  color: var(--sklearn-color-background);\n",
       "  text-decoration: none;\n",
       "}\n",
       "\n",
       "#sk-container-id-8 a.estimator_doc_link.fitted:hover {\n",
       "  /* fitted */\n",
       "  background-color: var(--sklearn-color-fitted-level-3);\n",
       "}\n",
       "</style><div id=\"sk-container-id-8\" class=\"sk-top-container\"><div class=\"sk-text-repr-fallback\"><pre>Pipeline(steps=[(&#x27;vect&#x27;, CountVectorizer()), (&#x27;tfidf&#x27;, TfidfTransformer()),\n",
       "                (&#x27;clf&#x27;, MultinomialNB())])</pre><b>In a Jupyter environment, please rerun this cell to show the HTML representation or trust the notebook. <br />On GitHub, the HTML representation is unable to render, please try loading this page with nbviewer.org.</b></div><div class=\"sk-container\" hidden><div class=\"sk-item sk-dashed-wrapped\"><div class=\"sk-label-container\"><div class=\"sk-label fitted sk-toggleable\"><input class=\"sk-toggleable__control sk-hidden--visually\" id=\"sk-estimator-id-29\" type=\"checkbox\" ><label for=\"sk-estimator-id-29\" class=\"sk-toggleable__label fitted sk-toggleable__label-arrow fitted\">&nbsp;&nbsp;Pipeline<a class=\"sk-estimator-doc-link fitted\" rel=\"noreferrer\" target=\"_blank\" href=\"https://scikit-learn.org/1.4/modules/generated/sklearn.pipeline.Pipeline.html\">?<span>Documentation for Pipeline</span></a><span class=\"sk-estimator-doc-link fitted\">i<span>Fitted</span></span></label><div class=\"sk-toggleable__content fitted\"><pre>Pipeline(steps=[(&#x27;vect&#x27;, CountVectorizer()), (&#x27;tfidf&#x27;, TfidfTransformer()),\n",
       "                (&#x27;clf&#x27;, MultinomialNB())])</pre></div> </div></div><div class=\"sk-serial\"><div class=\"sk-item\"><div class=\"sk-estimator fitted sk-toggleable\"><input class=\"sk-toggleable__control sk-hidden--visually\" id=\"sk-estimator-id-30\" type=\"checkbox\" ><label for=\"sk-estimator-id-30\" class=\"sk-toggleable__label fitted sk-toggleable__label-arrow fitted\">&nbsp;CountVectorizer<a class=\"sk-estimator-doc-link fitted\" rel=\"noreferrer\" target=\"_blank\" href=\"https://scikit-learn.org/1.4/modules/generated/sklearn.feature_extraction.text.CountVectorizer.html\">?<span>Documentation for CountVectorizer</span></a></label><div class=\"sk-toggleable__content fitted\"><pre>CountVectorizer()</pre></div> </div></div><div class=\"sk-item\"><div class=\"sk-estimator fitted sk-toggleable\"><input class=\"sk-toggleable__control sk-hidden--visually\" id=\"sk-estimator-id-31\" type=\"checkbox\" ><label for=\"sk-estimator-id-31\" class=\"sk-toggleable__label fitted sk-toggleable__label-arrow fitted\">&nbsp;TfidfTransformer<a class=\"sk-estimator-doc-link fitted\" rel=\"noreferrer\" target=\"_blank\" href=\"https://scikit-learn.org/1.4/modules/generated/sklearn.feature_extraction.text.TfidfTransformer.html\">?<span>Documentation for TfidfTransformer</span></a></label><div class=\"sk-toggleable__content fitted\"><pre>TfidfTransformer()</pre></div> </div></div><div class=\"sk-item\"><div class=\"sk-estimator fitted sk-toggleable\"><input class=\"sk-toggleable__control sk-hidden--visually\" id=\"sk-estimator-id-32\" type=\"checkbox\" ><label for=\"sk-estimator-id-32\" class=\"sk-toggleable__label fitted sk-toggleable__label-arrow fitted\">&nbsp;MultinomialNB<a class=\"sk-estimator-doc-link fitted\" rel=\"noreferrer\" target=\"_blank\" href=\"https://scikit-learn.org/1.4/modules/generated/sklearn.naive_bayes.MultinomialNB.html\">?<span>Documentation for MultinomialNB</span></a></label><div class=\"sk-toggleable__content fitted\"><pre>MultinomialNB()</pre></div> </div></div></div></div></div></div>"
      ]
     },
     "execution_count": 398,
     "metadata": {},
     "output_type": "execute_result"
    }
   ],
   "execution_count": 398
  },
  {
   "metadata": {
    "ExecuteTime": {
     "end_time": "2024-08-23T00:07:39.420759Z",
     "start_time": "2024-08-23T00:07:39.414737Z"
    }
   },
   "cell_type": "code",
   "source": [
    "predicted = text_clf.predict(docs_test)\n",
    "len(predicted)\n",
    "len(test_set_golden)"
   ],
   "id": "e5678983359866cd",
   "outputs": [
    {
     "data": {
      "text/plain": [
       "50"
      ]
     },
     "execution_count": 399,
     "metadata": {},
     "output_type": "execute_result"
    }
   ],
   "execution_count": 399
  },
  {
   "metadata": {
    "ExecuteTime": {
     "end_time": "2024-08-23T00:07:39.464365Z",
     "start_time": "2024-08-23T00:07:39.458758Z"
    }
   },
   "cell_type": "code",
   "source": "np.mean(predicted == test_set_golden) # The Naive Bayes classifier has a precision of 79%",
   "id": "5fcee061a14246d1",
   "outputs": [
    {
     "data": {
      "text/plain": [
       "0.94"
      ]
     },
     "execution_count": 400,
     "metadata": {},
     "output_type": "execute_result"
    }
   ],
   "execution_count": 400
  },
  {
   "metadata": {
    "ExecuteTime": {
     "end_time": "2024-08-23T00:07:39.503999Z",
     "start_time": "2024-08-23T00:07:39.492375Z"
    }
   },
   "cell_type": "code",
   "source": [
    "print(metrics.classification_report(test_set_golden, predicted,\n",
    "                                    target_names=categories))"
   ],
   "id": "77e4db09f9db3d74",
   "outputs": [
    {
     "name": "stdout",
     "output_type": "stream",
     "text": [
      "               precision    recall  f1-score   support\n",
      "\n",
      "    canciones       0.92      0.96      0.94        25\n",
      "documentacion       0.96      0.92      0.94        25\n",
      "\n",
      "     accuracy                           0.94        50\n",
      "    macro avg       0.94      0.94      0.94        50\n",
      " weighted avg       0.94      0.94      0.94        50\n",
      "\n"
     ]
    }
   ],
   "execution_count": 401
  },
  {
   "metadata": {
    "ExecuteTime": {
     "end_time": "2024-08-23T00:07:39.548170Z",
     "start_time": "2024-08-23T00:07:39.541008Z"
    }
   },
   "cell_type": "code",
   "source": "metrics.confusion_matrix(test_set_golden, predicted)",
   "id": "b306869ebc108057",
   "outputs": [
    {
     "data": {
      "text/plain": [
       "array([[24,  1],\n",
       "       [ 2, 23]], dtype=int64)"
      ]
     },
     "execution_count": 402,
     "metadata": {},
     "output_type": "execute_result"
    }
   ],
   "execution_count": 402
  },
  {
   "metadata": {
    "ExecuteTime": {
     "end_time": "2024-08-23T00:07:39.589762Z",
     "start_time": "2024-08-23T00:07:39.586178Z"
    }
   },
   "cell_type": "code",
   "source": "values, counts = np.unique(test_set_golden, return_counts=True)",
   "id": "56f4efc35741c9e7",
   "outputs": [],
   "execution_count": 403
  },
  {
   "metadata": {
    "ExecuteTime": {
     "end_time": "2024-08-23T00:07:39.623623Z",
     "start_time": "2024-08-23T00:07:39.619769Z"
    }
   },
   "cell_type": "code",
   "source": "values, counts = np.unique(predicted, return_counts=True)",
   "id": "f62906e2f118ac15",
   "outputs": [],
   "execution_count": 404
  },
  {
   "metadata": {},
   "cell_type": "markdown",
   "source": [
    "Try with SVM Support Vector Machine\n",
    "\n",
    "IMPORTANT: works better with individual documents rather than a single one; but cleaning will use the whole documents."
   ],
   "id": "b57a8ae58b1a54bb"
  },
  {
   "metadata": {
    "ExecuteTime": {
     "end_time": "2024-08-23T00:07:39.675931Z",
     "start_time": "2024-08-23T00:07:39.664620Z"
    }
   },
   "cell_type": "code",
   "source": [
    "from sklearn.linear_model import SGDClassifier\n",
    "text_clf = Pipeline([\n",
    "    ('vect', CountVectorizer(stop_words='english')),\n",
    "    ('tfidf', TfidfTransformer()),\n",
    "    ('clf', SGDClassifier(loss='hinge', penalty='l2',\n",
    "                          alpha=1e-3, random_state=42,\n",
    "                          max_iter=5, tol=None)),\n",
    "])\n",
    "\n",
    "text_clf.fit(fullTrainingData, fullDataClassification)\n",
    "predicted = text_clf.predict(docs_test)\n",
    "np.mean(predicted == test_set_golden)"
   ],
   "id": "102ffb9933e7dceb",
   "outputs": [
    {
     "data": {
      "text/plain": [
       "0.96"
      ]
     },
     "execution_count": 405,
     "metadata": {},
     "output_type": "execute_result"
    }
   ],
   "execution_count": 405
  },
  {
   "metadata": {
    "ExecuteTime": {
     "end_time": "2024-08-23T00:07:39.735077Z",
     "start_time": "2024-08-23T00:07:39.724939Z"
    }
   },
   "cell_type": "code",
   "source": [
    "print(metrics.classification_report(test_set_golden, predicted,\n",
    "                                    target_names=categories))"
   ],
   "id": "2308e494e3382f8b",
   "outputs": [
    {
     "name": "stdout",
     "output_type": "stream",
     "text": [
      "               precision    recall  f1-score   support\n",
      "\n",
      "    canciones       0.93      1.00      0.96        25\n",
      "documentacion       1.00      0.92      0.96        25\n",
      "\n",
      "     accuracy                           0.96        50\n",
      "    macro avg       0.96      0.96      0.96        50\n",
      " weighted avg       0.96      0.96      0.96        50\n",
      "\n"
     ]
    }
   ],
   "execution_count": 406
  },
  {
   "metadata": {
    "ExecuteTime": {
     "end_time": "2024-08-23T00:07:39.762472Z",
     "start_time": "2024-08-23T00:07:39.756084Z"
    }
   },
   "cell_type": "code",
   "source": "metrics.confusion_matrix(test_set_golden, predicted)",
   "id": "b9ba50edc3bba262",
   "outputs": [
    {
     "data": {
      "text/plain": [
       "array([[25,  0],\n",
       "       [ 2, 23]], dtype=int64)"
      ]
     },
     "execution_count": 407,
     "metadata": {},
     "output_type": "execute_result"
    }
   ],
   "execution_count": 407
  }
 ],
 "metadata": {
  "kernelspec": {
   "display_name": "Python 3",
   "language": "python",
   "name": "python3"
  },
  "language_info": {
   "codemirror_mode": {
    "name": "ipython",
    "version": 2
   },
   "file_extension": ".py",
   "mimetype": "text/x-python",
   "name": "python",
   "nbconvert_exporter": "python",
   "pygments_lexer": "ipython2",
   "version": "2.7.6"
  }
 },
 "nbformat": 4,
 "nbformat_minor": 5
}
