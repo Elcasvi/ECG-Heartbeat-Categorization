{
 "cells": [
  {
   "cell_type": "markdown",
   "id": "8a77807f92f26ee",
   "metadata": {},
   "source": [
    "<h1>Actividad Clasificador de topicos</h1>\n",
    "<h2>Martes 10 de Agosto</h2>\n",
    "<ol>\n",
    "<li>Elegir dos topicos</li>\n",
    "<li>Obtener al menos 50 frases para cada topico</li>\n",
    "<li>Definir un set con almenos 25 frases de cada tópico</li>\n",
    "<li>Definir el código para entrenar un modelo de SGD o Naive Bayes</li>\n",
    "</ol>\n",
    "\n"
   ]
  },
  {
   "cell_type": "code",
   "id": "fbc121e30a2defb3",
   "metadata": {
    "ExecuteTime": {
     "end_time": "2024-08-22T18:02:25.852976Z",
     "start_time": "2024-08-22T18:02:25.849351Z"
    }
   },
   "source": [
    "import numpy as np\n",
    "import pandas as pd\n",
    "from scipy.sparse import csr_array\n",
    "from sklearn.metrics.pairwise import cosine_similarity\n",
    "from sklearn.feature_extraction.text import CountVectorizer\n",
    "from sklearn.naive_bayes import MultinomialNB\n",
    "from collections import defaultdict\n",
    "import csv, sys"
   ],
   "outputs": [],
   "execution_count": 42
  },
  {
   "metadata": {
    "ExecuteTime": {
     "end_time": "2024-08-22T17:44:16.819891Z",
     "start_time": "2024-08-22T17:44:16.813454Z"
    }
   },
   "cell_type": "code",
   "source": [
    "canciones_df=pd.read_csv('data/Canciones Romanticas.csv')\n",
    "documentacion_df=pd.read_csv('data/Lenguajes de programacion.csv')\n",
    "canciones_df=canciones_df.iloc[:, 0].tolist()\n",
    "documentacion_df=documentacion_df.iloc[:, 0].tolist()"
   ],
   "id": "28731973e2c529fb",
   "outputs": [],
   "execution_count": 21
  },
  {
   "metadata": {
    "ExecuteTime": {
     "end_time": "2024-08-22T17:44:16.851512Z",
     "start_time": "2024-08-22T17:44:16.847897Z"
    }
   },
   "cell_type": "code",
   "source": [
    "canciones_df = list(map(str.lower,canciones_df))\n",
    "documentacion_df = list(map(str.lower,documentacion_df))"
   ],
   "id": "9d87f19915fdab2f",
   "outputs": [],
   "execution_count": 22
  },
  {
   "metadata": {
    "ExecuteTime": {
     "end_time": "2024-08-22T17:44:16.861Z",
     "start_time": "2024-08-22T17:44:16.852521Z"
    }
   },
   "cell_type": "code",
   "source": "canciones_df",
   "id": "2be9984f4ff933bd",
   "outputs": [
    {
     "data": {
      "text/plain": [
       "[\"i've got sunshine on a cloudy day with my girl\",\n",
       " \"i've got a sweeter song than the birds in the trees\",\n",
       " 'give you some time to prove that i can trust you again',\n",
       " 'and catch the tears whenever you cry',\n",
       " \"and in my dreams i've kissed your lips a thousand times\",\n",
       " \"i'm out of my head hopelessly devoted to you\",\n",
       " 'and now you know i can´t smile without you',\n",
       " 'i go out every night and sleep all day',\n",
       " \"just to let you know that i'm still around\",\n",
       " 'well life would still go on believe me',\n",
       " 'oh then turn around and make up',\n",
       " \"you're all i've ever wanted and my arms are open wide\",\n",
       " \"if she said that's the way it ought to be\",\n",
       " 'though life would still go on believe me',\n",
       " \"now my baby's dancin' but she's dancin' with another man\",\n",
       " \"and that you'd be reminded that for me, it isn't over\",\n",
       " \"i'll think of you each step of the way\",\n",
       " 'somewhere in her smile she knows',\n",
       " \"it's been so lonely without you here\",\n",
       " \"you're my end and my beginning\",\n",
       " 'is there really no chance to start once again?',\n",
       " \"they say true love's the greatest weapon\",\n",
       " \"when it's cold outside i've got the month of may\",\n",
       " 'i found a dream that i could speak to',\n",
       " \"god only knows what i'd be without you\",\n",
       " 'trying to hold on to your high-class love',\n",
       " 'you stick around now it may show',\n",
       " 'before i say another word let me tell you i love you',\n",
       " \"you've got my head spinning no kidding i can't pin you down\",\n",
       " 'my heart was wrapped up in clover',\n",
       " 'wise men say only fools rush in',\n",
       " 'i hate to turn up out of the blue uninvited',\n",
       " 'and i hope life will treat you kind',\n",
       " 'are you somewhere feeling lonely or is someone loving you?',\n",
       " 'what can make me feel this way?',\n",
       " 'he can never want some other girl',\n",
       " 'if you leave me now you´ll take away the biggest part of me',\n",
       " \"i'll be the moon when the sun goes down\",\n",
       " 'love your curves and all your edges',\n",
       " 'sometimes it lasts in love but sometimes it hurts instead',\n",
       " \"that i should've bought you flowers and held your hand\",\n",
       " 'true love breathes salvation back into me',\n",
       " 'and tell you time and time again how much i care',\n",
       " \"i've got all the riches baby one man can claim\",\n",
       " 'it started out as a feeling which then grew into a hope',\n",
       " \"that you found a girl and you're married now\",\n",
       " \"i'll be the weeping willow drowning in my tears\",\n",
       " \"and i'll be the rainbow after the tears are gone\",\n",
       " \"but i'm willing to give it another try\"]"
      ]
     },
     "execution_count": 23,
     "metadata": {},
     "output_type": "execute_result"
    }
   ],
   "execution_count": 23
  },
  {
   "metadata": {
    "ExecuteTime": {
     "end_time": "2024-08-22T17:44:16.874410Z",
     "start_time": "2024-08-22T17:44:16.871006Z"
    }
   },
   "cell_type": "code",
   "source": "categories = ['canciones', 'documentacion']",
   "id": "e7f2049e8d434958",
   "outputs": [],
   "execution_count": 24
  },
  {
   "metadata": {
    "ExecuteTime": {
     "end_time": "2024-08-22T17:44:16.887999Z",
     "start_time": "2024-08-22T17:44:16.875451Z"
    }
   },
   "cell_type": "code",
   "source": [
    "# Join individual documents to calculate cosine similarity\n",
    "canciones = ' '.join(canciones_df)\n",
    "documentacion = ' '.join(documentacion_df)\n",
    "documents = [canciones,documentacion]\n",
    "count_vectorizer = CountVectorizer(stop_words=\"english\")\n",
    "#count_vectorizer = CountVectorizer()\n",
    "sparse_matrix = count_vectorizer.fit_transform(documents)\n",
    "\n",
    "doc_term_matrix = sparse_matrix.todense()\n",
    "df = pd.DataFrame(\n",
    "   doc_term_matrix,\n",
    "   columns=count_vectorizer.get_feature_names_out(),\n",
    "   index=[\"canciones\", \"documentacion\"],\n",
    ")\n",
    "print(df)\n",
    "print(cosine_similarity(df, df))"
   ],
   "id": "76ef2cd22e89a358",
   "outputs": [
    {
     "name": "stdout",
     "output_type": "stream",
     "text": [
      "               abstract  accept  allows  arguments  arms  assigned  \\\n",
      "canciones             0       0       0          0     1         0   \n",
      "documentacion         1       2       6          2     0         1   \n",
      "\n",
      "               assignment  async  asynchronously  attempts  ...  way  weapon  \\\n",
      "canciones               0      0               0         0  ...    3       1   \n",
      "documentacion           1      2               1         1  ...    1       0   \n",
      "\n",
      "               weeping  wide  willing  willow  wise  word  wrapped  write  \n",
      "canciones            1     1        1       1     1     1        1      0  \n",
      "documentacion        0     0        0       0     0     0        0      1  \n",
      "\n",
      "[2 rows x 287 columns]\n",
      "[[1.        0.0338322]\n",
      " [0.0338322 1.       ]]\n"
     ]
    }
   ],
   "execution_count": 25
  },
  {
   "metadata": {
    "ExecuteTime": {
     "end_time": "2024-08-22T17:44:16.956983Z",
     "start_time": "2024-08-22T17:44:16.952036Z"
    }
   },
   "cell_type": "code",
   "source": "df.shape",
   "id": "9bf5e7974dd6a49e",
   "outputs": [
    {
     "data": {
      "text/plain": [
       "(2, 287)"
      ]
     },
     "execution_count": 26,
     "metadata": {},
     "output_type": "execute_result"
    }
   ],
   "execution_count": 26
  },
  {
   "metadata": {},
   "cell_type": "markdown",
   "source": [
    "Identify common tokens and resolve\n",
    "\n",
    "the first approach, delete all, is not right; delete those elements that are less frequent. Example: paper [105 0 5] delete for segment 15 and 32, if the number is the same, delete the word is all bags of words.\n",
    "\n",
    "There are 201 terms.\n",
    "\n",
    "Create three lists to keep track of which tokens will be erased for each segment"
   ],
   "id": "d1b798a33ce0b2d8"
  },
  {
   "metadata": {
    "ExecuteTime": {
     "end_time": "2024-08-22T17:47:59.901302Z",
     "start_time": "2024-08-22T17:47:59.892303Z"
    }
   },
   "cell_type": "code",
   "source": [
    "i = 0\n",
    "commonTerms = []\n",
    "cancionesdelete = []\n",
    "documentaciondelete = []\n",
    "for (columnName, columnData) in df.items():\n",
    "    nOcurrences = sum(x != 0 for x in columnData.values)\n",
    "    if nOcurrences > 1:\n",
    "      i = i + 1\n",
    "      commonTerms.append(columnName) # keep track of all the common terms\n",
    "      print('Token : ', columnName)\n",
    "      print('Token Frequency : ', columnData.values)\n",
    "      print('Token Repetition', sum(x != 0 for x in columnData.values))\n",
    "      cancionescount = columnData.values[0]\n",
    "      documentacioncount = columnData.values[1]\n",
    "      print('Canciones Token count ', cancionescount)\n",
    "      print('Documentacion Token count ', documentacioncount)\n",
    "      # Less frequent tokens are deleted from the bag of words\n",
    "      if (cancionescount > documentacioncount) and (cancionescount > documentacioncount):\n",
    "        print('Canciones wins')\n",
    "        documentaciondelete.append(columnName)\n",
    "      elif (documentacioncount > cancionescount) and (documentacioncount > cancionescount):\n",
    "        print('Documentacion wins')\n",
    "        cancionesdelete.append(columnName)\n",
    "      else: # there is a tie, the tokens is destroyed\n",
    "        cancionesdelete.append(columnName)\n",
    "        documentaciondelete.append(columnName)\n",
    "print('Total terms ', i)"
   ],
   "id": "26db1071f76a1ca2",
   "outputs": [
    {
     "name": "stdout",
     "output_type": "stream",
     "text": [
      "Token :  catch\n",
      "Token Frequency :  [1 2]\n",
      "Token Repetition 2\n",
      "Canciones Token count  1\n",
      "Documentacion Token count  2\n",
      "Documentacion wins\n",
      "Token :  class\n",
      "Token Frequency :  [1 9]\n",
      "Token Repetition 2\n",
      "Canciones Token count  1\n",
      "Documentacion Token count  9\n",
      "Documentacion wins\n",
      "Token :  hand\n",
      "Token Frequency :  [1 1]\n",
      "Token Repetition 2\n",
      "Canciones Token count  1\n",
      "Documentacion Token count  1\n",
      "Token :  time\n",
      "Token Frequency :  [3 1]\n",
      "Token Repetition 2\n",
      "Canciones Token count  3\n",
      "Documentacion Token count  1\n",
      "Canciones wins\n",
      "Token :  times\n",
      "Token Frequency :  [1 1]\n",
      "Token Repetition 2\n",
      "Canciones Token count  1\n",
      "Documentacion Token count  1\n",
      "Token :  true\n",
      "Token Frequency :  [2 2]\n",
      "Token Repetition 2\n",
      "Canciones Token count  2\n",
      "Documentacion Token count  2\n",
      "Token :  try\n",
      "Token Frequency :  [1 4]\n",
      "Token Repetition 2\n",
      "Canciones Token count  1\n",
      "Documentacion Token count  4\n",
      "Documentacion wins\n",
      "Token :  way\n",
      "Token Frequency :  [3 1]\n",
      "Token Repetition 2\n",
      "Canciones Token count  3\n",
      "Documentacion Token count  1\n",
      "Canciones wins\n",
      "Total terms  8\n"
     ]
    }
   ],
   "execution_count": 29
  },
  {
   "metadata": {
    "ExecuteTime": {
     "end_time": "2024-08-22T17:50:25.734354Z",
     "start_time": "2024-08-22T17:50:25.729700Z"
    }
   },
   "cell_type": "code",
   "source": [
    "cancionesc = []\n",
    "for string in canciones_df:\n",
    "  print(string)\n",
    "  cancionesc.append(' '.join(i for i in string.split() if i not in cancionesdelete))"
   ],
   "id": "2a5de3d8158142b1",
   "outputs": [
    {
     "name": "stdout",
     "output_type": "stream",
     "text": [
      "i've got sunshine on a cloudy day with my girl\n",
      "i've got a sweeter song than the birds in the trees\n",
      "give you some time to prove that i can trust you again\n",
      "and catch the tears whenever you cry\n",
      "and in my dreams i've kissed your lips a thousand times\n",
      "i'm out of my head hopelessly devoted to you\n",
      "and now you know i can´t smile without you\n",
      "i go out every night and sleep all day\n",
      "just to let you know that i'm still around\n",
      "well life would still go on believe me\n",
      "oh then turn around and make up\n",
      "you're all i've ever wanted and my arms are open wide\n",
      "if she said that's the way it ought to be\n",
      "though life would still go on believe me\n",
      "now my baby's dancin' but she's dancin' with another man\n",
      "and that you'd be reminded that for me, it isn't over\n",
      "i'll think of you each step of the way\n",
      "somewhere in her smile she knows\n",
      "it's been so lonely without you here\n",
      "you're my end and my beginning\n",
      "is there really no chance to start once again?\n",
      "they say true love's the greatest weapon\n",
      "when it's cold outside i've got the month of may\n",
      "i found a dream that i could speak to\n",
      "god only knows what i'd be without you\n",
      "trying to hold on to your high-class love\n",
      "you stick around now it may show\n",
      "before i say another word let me tell you i love you\n",
      "you've got my head spinning no kidding i can't pin you down\n",
      "my heart was wrapped up in clover\n",
      "wise men say only fools rush in\n",
      "i hate to turn up out of the blue uninvited\n",
      "and i hope life will treat you kind\n",
      "are you somewhere feeling lonely or is someone loving you?\n",
      "what can make me feel this way?\n",
      "he can never want some other girl\n",
      "if you leave me now you´ll take away the biggest part of me\n",
      "i'll be the moon when the sun goes down\n",
      "love your curves and all your edges\n",
      "sometimes it lasts in love but sometimes it hurts instead\n",
      "that i should've bought you flowers and held your hand\n",
      "true love breathes salvation back into me\n",
      "and tell you time and time again how much i care\n",
      "i've got all the riches baby one man can claim\n",
      "it started out as a feeling which then grew into a hope\n",
      "that you found a girl and you're married now\n",
      "i'll be the weeping willow drowning in my tears\n",
      "and i'll be the rainbow after the tears are gone\n",
      "but i'm willing to give it another try\n"
     ]
    }
   ],
   "execution_count": 30
  },
  {
   "metadata": {
    "ExecuteTime": {
     "end_time": "2024-08-22T17:50:58.323313Z",
     "start_time": "2024-08-22T17:50:58.319509Z"
    }
   },
   "cell_type": "code",
   "source": [
    "documentacionc = []\n",
    "for string in documentacion_df:\n",
    "  print(string)\n",
    "  cancionesc.append(' '.join(i for i in string.split() if i not in documentaciondelete))"
   ],
   "id": "204ca24e06cc5062",
   "outputs": [
    {
     "name": "stdout",
     "output_type": "stream",
     "text": [
      "a namespace is a container that holds classes structs and enums.\n",
      "the using directive allows you to use types from a namespace without fully qualifying their names.\n",
      "a static class cannot be instantiated and contains only static members.\n",
      "a constructor initializes a new instance of a class.\n",
      "the override keyword is used to provide a new implementation for a method inherited from a base class.\n",
      "an interface defines a contract that classes can implement.\n",
      "a struct is a value type that can contain data members and methods.\n",
      "an abstract class cannot be instantiated and must be inherited by other classes.\n",
      "the virtual keyword allows a method to be overridden in a derived class.\n",
      "an event allows a class to provide notifications to other classes or objects.\n",
      "a delegate is a type that represents references to methods with a specific parameter list and return type.\n",
      "the params keyword allows a method to accept a variable number of arguments.\n",
      "the async keyword defines a method that can run asynchronously.\n",
      "the await keyword is used to pause the execution of an async method until the awaited task completes.\n",
      "a property provides a way to read write or compute the value of a private field.\n",
      "the ref keyword indicates that a parameter is passed by reference.\n",
      "the out keyword specifies that a parameter is passed by reference and is intended to be assigned within the method.\n",
      "the readonly keyword makes a field immutable after it is initialized.\n",
      "the finally block is used to execute code after a try block regardless of whether an exception was thrown.\n",
      "the try block contains code that might throw an exception.\n",
      "the catch block handles exceptions that occur in the try block.\n",
      "the throw keyword is used to raise an exception.\n",
      "the default keyword provides a default value for a type parameter or a default case in a switch statement.\n",
      "the switch statement executes code based on the value of an expression.\n",
      "the case keyword defines a branch in a switch statement.\n",
      "the break statement exits from a loop or switch statement.\n",
      "the continue statement skips the remaining code in a loop iteration and proceeds to the next iteration.\n",
      "the for loop executes a block of code a specified number of times.\n",
      "the foreach loop iterates over a collection of items.\n",
      "the while loop executes a block of code as long as a specified condition is true.\n",
      "the do loop executes a block of code once then repeats the execution as long as a specified condition is true.\n",
      "the try catch statement is used for exception handling.\n",
      "the interface keyword defines a contract that classes must follow.\n",
      "the new keyword creates an instance of a class or struct.\n",
      "the return statement exits a method and optionally returns a value.\n",
      "the base keyword refers to the base class of the current instance.\n",
      "the this keyword refers to the current instance of a class.\n",
      "the params keyword allows a method to accept a variable number of arguments.\n",
      "the null keyword represents a null reference.\n",
      "the is keyword checks if an object is compatible with a given type.\n",
      "the as keyword attempts to cast an object to a specified type returning null if the cast fails.\n",
      "the enum keyword defines a set of named constants.\n",
      "the typeof keyword obtains the system.type object for a type.\n",
      "the dynamic keyword allows for dynamic type checking at runtime.\n",
      "the object type is the base type for all types in c sharp.\n",
      "the var keyword infers the type of a variable from the expression on the right side of the assignment.\n",
      "the lock statement ensures that a block of code runs by only one thread at a time.\n",
      "the using statement ensures that resources are properly disposed of.\n",
      "the null coalescing operator provides a default value if the left-hand operand is null.\n"
     ]
    }
   ],
   "execution_count": 31
  },
  {
   "metadata": {
    "ExecuteTime": {
     "end_time": "2024-08-22T17:54:06.550866Z",
     "start_time": "2024-08-22T17:54:06.539212Z"
    }
   },
   "cell_type": "code",
   "source": [
    "# Join individual documents to calculate cosine similarity after cleansing\n",
    "# Reduction of the cosine similarity\n",
    "canciones = ' '.join(cancionesc)\n",
    "documentacion = ' '.join(documentacionc)\n",
    "documents = [canciones, documentacion]\n",
    "count_vectorizer = CountVectorizer(stop_words=\"english\")\n",
    "#count_vectorizer = CountVectorizer()\n",
    "sparse_matrix = count_vectorizer.fit_transform(documents)\n",
    "\n",
    "doc_term_matrix = sparse_matrix.todense()\n",
    "df = pd.DataFrame(\n",
    "   doc_term_matrix,\n",
    "   columns=count_vectorizer.get_feature_names_out(),\n",
    "   index=[\"canciones\", \"documentacion\"],\n",
    ")\n",
    "print(df)\n",
    "print(cosine_similarity(df, df))"
   ],
   "id": "60486b98e9dc9ac5",
   "outputs": [
    {
     "name": "stdout",
     "output_type": "stream",
     "text": [
      "               abstract  accept  allows  arguments  arms  assigned  \\\n",
      "canciones             1       2       6          2     1         1   \n",
      "documentacion         0       0       0          0     0         0   \n",
      "\n",
      "               assignment  async  asynchronously  attempts  ...  way  weapon  \\\n",
      "canciones               1      2               1         1  ...    3       1   \n",
      "documentacion           0      0               0         0  ...    0       0   \n",
      "\n",
      "               weeping  wide  willing  willow  wise  word  wrapped  write  \n",
      "canciones            1     1        1       1     1     1        1      1  \n",
      "documentacion        0     0        0       0     0     0        0      0  \n",
      "\n",
      "[2 rows x 287 columns]\n",
      "[[1. 0.]\n",
      " [0. 0.]]\n"
     ]
    }
   ],
   "execution_count": 32
  },
  {
   "metadata": {
    "ExecuteTime": {
     "end_time": "2024-08-22T17:55:58.938910Z",
     "start_time": "2024-08-22T17:55:58.931740Z"
    }
   },
   "cell_type": "code",
   "source": [
    "fullTrainingDatac = cancionesc + documentacionc\n",
    "cancionesvaluesc = [14] * len(cancionesc)\n",
    "documentacionvaluesc = [15] * len(documentacionc)\n",
    "fullDataClassificationc = cancionesvaluesc + documentacionvaluesc\n",
    "\n",
    "count_vect = CountVectorizer(stop_words='english')\n",
    "X_products_countsc = count_vect.fit_transform(fullTrainingDatac)\n",
    "X_products_countsc.shape"
   ],
   "id": "f90588144398befb",
   "outputs": [
    {
     "data": {
      "text/plain": [
       "(98, 287)"
      ]
     },
     "execution_count": 33,
     "metadata": {},
     "output_type": "execute_result"
    }
   ],
   "execution_count": 33
  },
  {
   "metadata": {
    "ExecuteTime": {
     "end_time": "2024-08-22T17:59:32.448869Z",
     "start_time": "2024-08-22T17:59:32.445471Z"
    }
   },
   "cell_type": "code",
   "source": "fullTrainingData = canciones_df + documentacion_df",
   "id": "c240d5c71df74e5b",
   "outputs": [],
   "execution_count": 36
  },
  {
   "metadata": {
    "ExecuteTime": {
     "end_time": "2024-08-22T17:59:33.399772Z",
     "start_time": "2024-08-22T17:59:33.396854Z"
    }
   },
   "cell_type": "code",
   "source": [
    "cancionesvalues = [14] * len(canciones_df)\n",
    "documentacionvalues = [15] * len(documentacion_df)\n",
    "fullDataClassification = cancionesvalues + documentacionvalues"
   ],
   "id": "63e5e30caca07d6e",
   "outputs": [],
   "execution_count": 37
  },
  {
   "metadata": {
    "ExecuteTime": {
     "end_time": "2024-08-22T17:59:34.829040Z",
     "start_time": "2024-08-22T17:59:34.822733Z"
    }
   },
   "cell_type": "code",
   "source": [
    "from sklearn.feature_extraction.text import CountVectorizer\n",
    "count_vect = CountVectorizer(stop_words='english')\n",
    "X_products_counts = count_vect.fit_transform(fullTrainingData)\n",
    "X_products_counts.shape"
   ],
   "id": "7fff130bfbf4c6a7",
   "outputs": [
    {
     "data": {
      "text/plain": [
       "(98, 287)"
      ]
     },
     "execution_count": 38,
     "metadata": {},
     "output_type": "execute_result"
    }
   ],
   "execution_count": 38
  },
  {
   "metadata": {},
   "cell_type": "markdown",
   "source": "These are the term matrices",
   "id": "81ad0325b94e7a72"
  },
  {
   "metadata": {
    "ExecuteTime": {
     "end_time": "2024-08-22T17:59:46.433205Z",
     "start_time": "2024-08-22T17:59:46.422611Z"
    }
   },
   "cell_type": "code",
   "source": [
    "doc_term_matrix = X_products_counts.todense()\n",
    "df = pd.DataFrame(\n",
    "   doc_term_matrix,\n",
    "   columns=count_vect.get_feature_names_out()\n",
    ")\n",
    "print(df)\n",
    "print(cosine_similarity(df, df))"
   ],
   "id": "7351c54b9a3767ec",
   "outputs": [
    {
     "name": "stdout",
     "output_type": "stream",
     "text": [
      "    abstract  accept  allows  arguments  arms  assigned  assignment  async  \\\n",
      "0          0       0       0          0     0         0           0      0   \n",
      "1          0       0       0          0     0         0           0      0   \n",
      "2          0       0       0          0     0         0           0      0   \n",
      "3          0       0       0          0     0         0           0      0   \n",
      "4          0       0       0          0     0         0           0      0   \n",
      "..       ...     ...     ...        ...   ...       ...         ...    ...   \n",
      "93         0       0       0          0     0         0           0      0   \n",
      "94         0       0       0          0     0         0           1      0   \n",
      "95         0       0       0          0     0         0           0      0   \n",
      "96         0       0       0          0     0         0           0      0   \n",
      "97         0       0       0          0     0         0           0      0   \n",
      "\n",
      "    asynchronously  attempts  ...  way  weapon  weeping  wide  willing  \\\n",
      "0                0         0  ...    0       0        0     0        0   \n",
      "1                0         0  ...    0       0        0     0        0   \n",
      "2                0         0  ...    0       0        0     0        0   \n",
      "3                0         0  ...    0       0        0     0        0   \n",
      "4                0         0  ...    0       0        0     0        0   \n",
      "..             ...       ...  ...  ...     ...      ...   ...      ...   \n",
      "93               0         0  ...    0       0        0     0        0   \n",
      "94               0         0  ...    0       0        0     0        0   \n",
      "95               0         0  ...    0       0        0     0        0   \n",
      "96               0         0  ...    0       0        0     0        0   \n",
      "97               0         0  ...    0       0        0     0        0   \n",
      "\n",
      "    willow  wise  word  wrapped  write  \n",
      "0        0     0     0        0      0  \n",
      "1        0     0     0        0      0  \n",
      "2        0     0     0        0      0  \n",
      "3        0     0     0        0      0  \n",
      "4        0     0     0        0      0  \n",
      "..     ...   ...   ...      ...    ...  \n",
      "93       0     0     0        0      0  \n",
      "94       0     0     0        0      0  \n",
      "95       0     0     0        0      0  \n",
      "96       0     0     0        0      0  \n",
      "97       0     0     0        0      0  \n",
      "\n",
      "[98 rows x 287 columns]\n",
      "[[1.         0.33333333 0.         ... 0.         0.         0.        ]\n",
      " [0.33333333 1.         0.         ... 0.         0.         0.        ]\n",
      " [0.         0.         1.         ... 0.20412415 0.         0.        ]\n",
      " ...\n",
      " [0.         0.         0.20412415 ... 1.         0.28867513 0.        ]\n",
      " [0.         0.         0.         ... 0.28867513 1.         0.        ]\n",
      " [0.         0.         0.         ... 0.         0.         1.        ]]\n"
     ]
    }
   ],
   "execution_count": 39
  },
  {
   "metadata": {},
   "cell_type": "markdown",
   "source": "Create Inverse Matrix",
   "id": "8f3e54e38684559c"
  },
  {
   "metadata": {},
   "cell_type": "markdown",
   "source": "CountVectorizer team 2",
   "id": "1007bd8f308a2eda"
  },
  {
   "metadata": {
    "ExecuteTime": {
     "end_time": "2024-08-22T18:01:04.841211Z",
     "start_time": "2024-08-22T18:01:04.834920Z"
    }
   },
   "cell_type": "code",
   "source": [
    "from sklearn.feature_extraction.text import TfidfTransformer\n",
    "tfidf_transformer = TfidfTransformer()\n",
    "X_train_tfidf = tfidf_transformer.fit_transform(X_products_counts)\n",
    "X_train_tfidf.shape"
   ],
   "id": "276aa061ec532f74",
   "outputs": [
    {
     "data": {
      "text/plain": [
       "(98, 287)"
      ]
     },
     "execution_count": 40,
     "metadata": {},
     "output_type": "execute_result"
    }
   ],
   "execution_count": 40
  },
  {
   "metadata": {},
   "cell_type": "code",
   "outputs": [],
   "execution_count": null,
   "source": [
    "classlookup = None\n",
    "filename = 'sample_data/test_data_ml_classifier.csv'\n",
    "with open(filename, newline='') as f:\n",
    "                reader = csv.reader(f)\n",
    "                try:\n",
    "                    classlookup = defaultdict(list)\n",
    "                    for key, val in reader:\n",
    "                        classlookup[key] = val\n",
    "                except csv.Error as e:\n",
    "                    sys.exit('file {}, line {}: {}'.format(filename, reader.line_num, e))"
   ],
   "id": "4fd50806c13bd058"
  },
  {
   "metadata": {},
   "cell_type": "code",
   "outputs": [],
   "execution_count": null,
   "source": "test_set_golden = list(classlookup.values())",
   "id": "e74058c9273a0f54"
  },
  {
   "metadata": {},
   "cell_type": "code",
   "outputs": [],
   "execution_count": null,
   "source": "test_set_golden = test_set_golden[1:]",
   "id": "10d76c90bd8c770"
  },
  {
   "metadata": {},
   "cell_type": "code",
   "outputs": [],
   "execution_count": null,
   "source": "test_set_golden = [int(i) for i in test_set_golden]",
   "id": "640078144cde698a"
  },
  {
   "metadata": {},
   "cell_type": "code",
   "outputs": [],
   "execution_count": null,
   "source": "docs_test = list(classlookup.keys())[1:]",
   "id": "8fbb916b77e3b10f"
  },
  {
   "metadata": {},
   "cell_type": "code",
   "outputs": [],
   "execution_count": null,
   "source": "MultinomialNB",
   "id": "51ba2681cd7ffd3c"
  },
  {
   "metadata": {},
   "cell_type": "code",
   "outputs": [],
   "execution_count": null,
   "source": "CountVectorizer",
   "id": "2cdb1c88f93461af"
  },
  {
   "metadata": {},
   "cell_type": "code",
   "outputs": [],
   "execution_count": null,
   "source": "TfidfTransformer",
   "id": "1e20cc24291628ae"
  },
  {
   "metadata": {},
   "cell_type": "code",
   "outputs": [],
   "execution_count": null,
   "source": [
    "from sklearn.pipeline import Pipeline\n",
    "text_clf = Pipeline([\n",
    "    ('vect', CountVectorizer()),\n",
    "    ('tfidf', TfidfTransformer()),\n",
    "    ('clf', MultinomialNB()),\n",
    "])"
   ],
   "id": "ac38f87619d84dcc"
  },
  {
   "metadata": {},
   "cell_type": "code",
   "outputs": [],
   "execution_count": null,
   "source": "text_clf.fit(fullTrainingData, fullDataClassification)",
   "id": "114f9ad778cb7c8e"
  }
 ],
 "metadata": {
  "kernelspec": {
   "display_name": "Python 3",
   "language": "python",
   "name": "python3"
  },
  "language_info": {
   "codemirror_mode": {
    "name": "ipython",
    "version": 2
   },
   "file_extension": ".py",
   "mimetype": "text/x-python",
   "name": "python",
   "nbconvert_exporter": "python",
   "pygments_lexer": "ipython2",
   "version": "2.7.6"
  }
 },
 "nbformat": 4,
 "nbformat_minor": 5
}
